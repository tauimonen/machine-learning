{
 "cells": [
  {
   "cell_type": "code",
   "execution_count": null,
   "id": "interesting-barrier",
   "metadata": {},
   "outputs": [],
   "source": [
    "TLO-32410-2020-2021-1 Johdanto datatieteeseen - päiväkirja\n",
    "Laatijana Toni Uimonen 12.3.2021 alkaen."
   ]
  },
  {
   "cell_type": "code",
   "execution_count": null,
   "id": "center-sodium",
   "metadata": {},
   "outputs": [],
   "source": [
    "Luentoviikko 1: Johdanto aihepiiriin ja suorittaminen\n",
    "    \n",
    "Ensimmäisellä viikolla osallistuin avausluennolle, jolla käsiteltiin jakson suorittamisen \n",
    "käytäntöjä ja esiteltiin käytettäviä työkaluja. Luennolla esiteltiin datatiedettä yleisemmin \n",
    "ja olinkin perehtynyt etukäteen alan kirjallisuuteen. Alla katkelmia kirjallisuuskatsauksestani."
   ]
  },
  {
   "cell_type": "code",
   "execution_count": null,
   "id": "convenient-convertible",
   "metadata": {},
   "outputs": [],
   "source": [
    "Datatiede on kokoelma tekniikoita, joilla pyritään saamaan arvoa datasta. Siitä on tullut\n",
    "keskeinen työkalu mille tahansa organisaatiolle, joka kerää, varastoi ja prosessoi tietoa\n",
    "osana toimintojaan. Datatieteen tavoitteena on parantaa päätöksentekoa perustamalla päätökset\n",
    "suurista aineistoista saatuihin näkemyksiin. Toiminta-alueena datatiede käsittää joukon \n",
    "periaatteita, ongelman määrittelyjä, algoritmeja ja prosesseja ei-ilmeisten ja hyödyllisten\n",
    "mallien poimimiseksi suurista tietojoukoista. (Kelleher & Tierney, 2018)Datatieteen tekniikat \n",
    "toimivat sen varassa, että datasta löydetään hyödyllisiä malleja, yhteyksiä ja suhteita. \n",
    "(Koty & Deshpande, 2019) \n",
    "\n",
    "Alalla tunnettu Conwayn datatiede -diagrammi (Conway, 2015) sijoittaakin datatieteen \n",
    "poikkitieteelliseksi toiminnaksi, jolla on kolme ulottuvuutta: toimialaosaaminen, matematiikka \n",
    "ja tietojenkäsittelytiede. Datatieteilijä on joku, joka ymmärtää tarkasteltavan aiheen matemaattisesti\n",
    "ja kirjoittaa ohjelmakoodin ratkaisemaan ongelmat. Yleisimmin datatiede liittyy läheisesti \n",
    "liiketoiminnan tuloksiin. Datatiede on systemaattinen ja strateginen lähestymistapa datan käyttöön \n",
    "käytännön ongelmien ratkaisemiseksi. Datatieteen ongelmat ovat käytännöllisiä, koska puhtaalla \n",
    "tieteellä on eri tavoite kuin yrityksillä. Organisaation datatieteilijä onkin vähemmän kiinnostunut \n",
    "ongelman yleistetystä ratkaisusta ja keskittyy parantamaan sitä, miten organisaatio saavuttaa \n",
    "tavoitteensa. (Prevos, 2019)\n",
    "\n",
    "Datatiede ei välttämättä tarvitse suuria määriä dataa menestyäkseen, vaan oikeanlaisen datan \n",
    "saaminen on paljon tärkeämpi vaatimus. (Kelleher & Tierney, 2018) Vääränlainen, virheellinen tai \n",
    "vääristynyt data johtaa helposti vääriin johtopäätöksiin, joten tämän vuoksi datan tarkastelu on \n",
    "datan esivalmistelussa tärkeää. Datatiedeprojekteilta vaaditaankin merkittävää panostusta datan \n",
    "valmisteluun ja siivoamiseen, ennen kuin sitä voidaan käsitellä algoritmeilla. Täytyy kuitenkin \n",
    "muistaa, että datatieteen aihe ei ole itse data itsessään, vaan se todellisuus mitä data kuvaa. \n",
    "Datatiede koskee asioita ja ihmisiä todellisessa maailmassa, eikä vain numeroita ja algoritmeja.\n",
    "\n",
    "Lähdeluettelo\n",
    "\n",
    "Conway D. (2015). The data science venn diagram, verkkosivu: http://drewconway.\n",
    "com/zia/2013/3/26/the-data-science-venn-diagram (luettu 7.3.2021).\n",
    "\n",
    "Kelleher, J. D. & Tierney, B. (2018). Data science. Cambridge, MIT Press.\n",
    "\n",
    "Koty, V. & Deshpande, B. (2019). Data Science: Concepts and Practice. Cambridge, Morgan\n",
    "Kaufmann Publishers, an imprint of Elsevier.\n",
    "\n",
    "Prevos, P. (2019). Principles of strategic data science: creating value from data, big and small.\n",
    "Birmingham, Mumbai, Packt Publishing."
   ]
  },
  {
   "cell_type": "code",
   "execution_count": null,
   "id": "leading-threat",
   "metadata": {},
   "outputs": [],
   "source": [
    "Viikon 5 oivallusta:\n",
    "    - Jupyter Notebookin käyttö\n",
    "    - Googlen AI Platform toimii hienosti\n",
    "    - Jupyter Notebookin yhdistäminen GitHubiin\n",
    "    - Pandasin laajuus ja peruskäyttö\n",
    "    - Dataframien muokkaus halutuksi\n",
    "    \n",
    "Kehityskohteet:\n",
    "    - Veikkaan, että osa osallistujista kaipaisi enemmän tukea ja vinkkejä \n",
    "    kehitysympäristöjen kanssa. "
   ]
  },
  {
   "cell_type": "code",
   "execution_count": null,
   "id": "neutral-threat",
   "metadata": {},
   "outputs": [],
   "source": [
    "Osallistuin myös viikon koodipajaan, jossa sukellettiin Pandas-kirjaston käyttöön ja eri kehitys-\n",
    "ympäristöihin. Minulla oli jo valmiina asennettuna Python 3.8 ja Anaconda, joten Jupyter Notebook \n",
    "ei tarvinnut kuin avata. Lisäksi paljon käyttämässäni PyCharmissa näyttäisi olevan notebookin luonti-\n",
    "mahdollisuus, mutta päädyin kuitenkin avaamaan tilin Google Cloud Platformiin, jossa AI \n",
    "Platformissa pystyy myös luomaan pilvessä sijaitsevan Jupyter Notebookin. Linkitin luomani työtilan \n",
    "GitHub-tiliini ja yhdistelmä vaikuttaisi toimivan. Alla hieman Pandas-kirjaston harjoittelua koodidemona."
   ]
  },
  {
   "cell_type": "code",
   "execution_count": 39,
   "id": "narrative-seven",
   "metadata": {},
   "outputs": [],
   "source": [
    "import pandas as pd"
   ]
  },
  {
   "cell_type": "code",
   "execution_count": 40,
   "id": "previous-sociology",
   "metadata": {},
   "outputs": [
    {
     "data": {
      "text/html": [
       "<div>\n",
       "<style scoped>\n",
       "    .dataframe tbody tr th:only-of-type {\n",
       "        vertical-align: middle;\n",
       "    }\n",
       "\n",
       "    .dataframe tbody tr th {\n",
       "        vertical-align: top;\n",
       "    }\n",
       "\n",
       "    .dataframe thead th {\n",
       "        text-align: right;\n",
       "    }\n",
       "</style>\n",
       "<table border=\"1\" class=\"dataframe\">\n",
       "  <thead>\n",
       "    <tr style=\"text-align: right;\">\n",
       "      <th></th>\n",
       "      <th>Yes</th>\n",
       "      <th>No</th>\n",
       "    </tr>\n",
       "  </thead>\n",
       "  <tbody>\n",
       "    <tr>\n",
       "      <th>0</th>\n",
       "      <td>50</td>\n",
       "      <td>131</td>\n",
       "    </tr>\n",
       "    <tr>\n",
       "      <th>1</th>\n",
       "      <td>21</td>\n",
       "      <td>2</td>\n",
       "    </tr>\n",
       "  </tbody>\n",
       "</table>\n",
       "</div>"
      ],
      "text/plain": [
       "   Yes   No\n",
       "0   50  131\n",
       "1   21    2"
      ]
     },
     "execution_count": 40,
     "metadata": {},
     "output_type": "execute_result"
    }
   ],
   "source": [
    "# DataFrame koostuu dicteista, joiden avaimet muodostavat kolumnit.\n",
    "pd.DataFrame({\"Yes\": [50, 21], \"No\": [131, 2]})"
   ]
  },
  {
   "cell_type": "code",
   "execution_count": 41,
   "id": "played-channel",
   "metadata": {},
   "outputs": [
    {
     "data": {
      "text/html": [
       "<div>\n",
       "<style scoped>\n",
       "    .dataframe tbody tr th:only-of-type {\n",
       "        vertical-align: middle;\n",
       "    }\n",
       "\n",
       "    .dataframe tbody tr th {\n",
       "        vertical-align: top;\n",
       "    }\n",
       "\n",
       "    .dataframe thead th {\n",
       "        text-align: right;\n",
       "    }\n",
       "</style>\n",
       "<table border=\"1\" class=\"dataframe\">\n",
       "  <thead>\n",
       "    <tr style=\"text-align: right;\">\n",
       "      <th></th>\n",
       "      <th>Tilastoguru</th>\n",
       "      <th>Koodaaja</th>\n",
       "    </tr>\n",
       "  </thead>\n",
       "  <tbody>\n",
       "    <tr>\n",
       "      <th>0</th>\n",
       "      <td>Ei se korreloi.</td>\n",
       "      <td>Ei tähän matikkaa tarvita.</td>\n",
       "    </tr>\n",
       "    <tr>\n",
       "      <th>1</th>\n",
       "      <td>Hypoteesi on väärä</td>\n",
       "      <td>Saisko joskus tehdä rauhassa?</td>\n",
       "    </tr>\n",
       "  </tbody>\n",
       "</table>\n",
       "</div>"
      ],
      "text/plain": [
       "          Tilastoguru                       Koodaaja\n",
       "0     Ei se korreloi.     Ei tähän matikkaa tarvita.\n",
       "1  Hypoteesi on väärä  Saisko joskus tehdä rauhassa?"
      ]
     },
     "execution_count": 41,
     "metadata": {},
     "output_type": "execute_result"
    }
   ],
   "source": [
    "pd.DataFrame({\"Tilastoguru\": [\"Ei se korreloi.\", \"Hypoteesi on väärä\"], \n",
    "             \"Koodaaja\": [\"Ei tähän matikkaa tarvita.\", \"Saisko joskus tehdä rauhassa?\"]})"
   ]
  },
  {
   "cell_type": "code",
   "execution_count": 42,
   "id": "otherwise-wagon",
   "metadata": {},
   "outputs": [],
   "source": [
    "sarja = pd.Series([2, 1, 5, 4, 8, 3])"
   ]
  },
  {
   "cell_type": "code",
   "execution_count": 43,
   "id": "unique-granny",
   "metadata": {},
   "outputs": [
    {
     "data": {
      "text/plain": [
       "0    2\n",
       "1    1\n",
       "2    5\n",
       "3    4\n",
       "4    8\n",
       "5    3\n",
       "dtype: int64"
      ]
     },
     "execution_count": 43,
     "metadata": {},
     "output_type": "execute_result"
    }
   ],
   "source": [
    "sarja"
   ]
  },
  {
   "cell_type": "code",
   "execution_count": 44,
   "id": "played-congress",
   "metadata": {},
   "outputs": [
    {
     "data": {
      "text/plain": [
       "[1, 2, 3, 4, 5, 8]"
      ]
     },
     "execution_count": 44,
     "metadata": {},
     "output_type": "execute_result"
    }
   ],
   "source": [
    "sorted(sarja)"
   ]
  },
  {
   "cell_type": "code",
   "execution_count": 45,
   "id": "marked-electronics",
   "metadata": {},
   "outputs": [
    {
     "data": {
      "text/plain": [
       "Myynnit    5500\n",
       "Ostot      3250\n",
       "Name: Tuote A, dtype: int64"
      ]
     },
     "execution_count": 45,
     "metadata": {},
     "output_type": "execute_result"
    }
   ],
   "source": [
    "pd.Series([5500, 3250], index=[\"Myynnit\", \"Ostot\"], name=\"Tuote A\")"
   ]
  },
  {
   "cell_type": "code",
   "execution_count": null,
   "id": "curious-myrtle",
   "metadata": {},
   "outputs": [],
   "source": [
    "puut = pd.read_csv('trees.csv')"
   ]
  },
  {
   "cell_type": "code",
   "execution_count": null,
   "id": "eight-lodge",
   "metadata": {},
   "outputs": [],
   "source": [
    "puut.head(2)"
   ]
  },
  {
   "cell_type": "code",
   "execution_count": null,
   "id": "helpful-condition",
   "metadata": {},
   "outputs": [],
   "source": [
    "print(puut.dtypes)"
   ]
  },
  {
   "cell_type": "code",
   "execution_count": null,
   "id": "virgin-distinction",
   "metadata": {},
   "outputs": [],
   "source": [
    "# Luetaan vuoden 2019 onnellisuusindeksin data.\n",
    "happiness = pd.read_csv(\"2019.csv\")"
   ]
  },
  {
   "cell_type": "code",
   "execution_count": null,
   "id": "manual-spencer",
   "metadata": {},
   "outputs": [],
   "source": [
    "happiness"
   ]
  },
  {
   "cell_type": "code",
   "execution_count": null,
   "id": "bottom-benjamin",
   "metadata": {},
   "outputs": [],
   "source": [
    "happiness.rename({\"Overall rank\": \"Rank\", \"GDP per capita\": \"GPD\"}, axis=1, inplace=True)\n",
    "happiness"
   ]
  },
  {
   "cell_type": "code",
   "execution_count": null,
   "id": "earned-alexandria",
   "metadata": {},
   "outputs": [],
   "source": [
    "# Jos GDP yli 1.3 -> arvo vaihdetaan merkkijonoon \"Rich\".\n",
    "def test_if_rich(x):\n",
    "    if x > 1.3:\n",
    "        return \"Rich\"\n",
    "    else:\n",
    "        return x\n",
    "\n",
    "happiness[\"GPD\"] = happiness[\"GPD\"].apply(test_if_rich)"
   ]
  },
  {
   "cell_type": "code",
   "execution_count": null,
   "id": "fancy-campus",
   "metadata": {},
   "outputs": [],
   "source": [
    "happiness.head(30)"
   ]
  },
  {
   "cell_type": "code",
   "execution_count": null,
   "id": "willing-ribbon",
   "metadata": {},
   "outputs": [],
   "source": [
    "Luentoviikko 2: Datan kerääminen ja jalostaminen\n",
    "    \n",
    "Toisella luentoviikolla osallistuin luennolle, jolla käsiteltiin datan \n",
    "keräämistä ja jalostamista. Web-ryömijöitä ja -raapijoita sekä API-ohjelmointia \n",
    "sivuttiin hyvin pikaisesti ja se ei innostanut perehtymään menetelmiin syvemmin\n",
    "ja päädyin testailemaan data-aineistojen yhdistelyä ja jalostamista valmiilla \n",
    "aineistoilla. Olin jo ennen tätä opintojaksoa tutustunut Kaggleen ja tiesin,\n",
    "että sielä on tarjolla hyviä aineistoja, joilla saa tehtyä harjoituksia. Kagglessa \n",
    "vaikuttaisi myös olevan tarjolla datatieteeseen liittyviä kilpailuja. Juuri\n",
    "muuhun kuin harjoitteluun ne aineistot eivät oikein riitäkään, eli aidosti \n",
    "kiinnostavat ja toimivat data-aineistot vaikuttavat harvinaisilta. Lisäksi \n",
    "niiden avulla pitäisi pystyä rakentamaan koneoppimismalleja, joilla on todellista \n",
    "vaikutusta johonkin merkitykselliseen asiaan. \n",
    "\n",
    "Datan keräämiseen, valmisteluun ja siivoamiseen saattaa upota merkittävä osa\n",
    "datatiedeprojektiin käytetystä ajasta. Aluksi on tärkeää tarkastella dataa ja \n",
    "miettiä sen järkevyyttä ja todenmukaisuutta, jotta ylipäätään olisi mahdollista\n",
    "saada järjellisiä tuloksia. Dataa voidaan yhdistellä monista lähteistä samoihin\n",
    "datafreimeihin ja niitä voidaan siivota poistamalla epäkelpoja ja dataa vääristäviä\n",
    "rivejä. Voidaan myös muuttaa kategorista dataa sellaiseen muotoon, että kone-\n",
    "oppimismallit voivat käyttää niitä hyväkseen."
   ]
  },
  {
   "cell_type": "code",
   "execution_count": null,
   "id": "yellow-childhood",
   "metadata": {},
   "outputs": [],
   "source": [
    "Viikon 5 oppia/oivallusta:\n",
    "    -Yllättävän suuri osa data science -tutoriaalien ohjeista/datasta on vanhentunutta,\n",
    "    joka johtaa siihen, että koodit eivät toimi niinkuin ohjeissa.\n",
    "    -Web-raapijoiden käytössä saattaa olla laillisia ja/tai eettisiä esteitä.\n",
    "    -Scrapyn käytöstä jäi fiilis, että olisi hyvä osata ainakin hieman HTML:ää.\n",
    "    -Ennakoivaa analytiikkaa käytetään myös teollisuuden prosesseissa.\n",
    "    -API-ohjelmoinnin avulla dataa voi streamata online-lähteistä-\n",
    "    \n",
    "Kehityskohteet: \n",
    "    -Datan yhdistelyyn kaipaisi toimivaa materiaalia. Nyt meni kohtuuttomasti aikaa hukkaan \n",
    "    toimimattomien Youtube-tutoriaalien kokeilussa."
   ]
  },
  {
   "cell_type": "code",
   "execution_count": null,
   "id": "governmental-melissa",
   "metadata": {},
   "outputs": [],
   "source": [
    "Koodidemona datakehyksien yhdistelyä mergellä ja joinilla:"
   ]
  },
  {
   "cell_type": "code",
   "execution_count": 46,
   "id": "first-warning",
   "metadata": {},
   "outputs": [],
   "source": [
    "import pandas as pd\n",
    "\n",
    "df1 = pd.DataFrame({'HPI':[80,85,88,85],\n",
    "                    'Int_rate':[2, 3, 2, 2],\n",
    "                    'US_GDP_Thousands':[50, 55, 65, 55]},\n",
    "                   index = [2001, 2002, 2003, 2004])\n",
    "\n",
    "df2 = pd.DataFrame({'HPI':[80,85,88,85],\n",
    "                    'Int_rate':[2, 3, 2, 2],\n",
    "                    'US_GDP_Thousands':[50, 55, 65, 55]},\n",
    "                   index = [2005, 2006, 2007, 2008])\n",
    "\n",
    "df3 = pd.DataFrame({'HPI':[80,85,88,85],\n",
    "                    'Unemployment':[7, 8, 9, 6],\n",
    "                    'Low_tier_HPI':[50, 52, 50, 53]},\n",
    "                   index = [2001, 2002, 2003, 2004])"
   ]
  },
  {
   "cell_type": "code",
   "execution_count": 47,
   "id": "ordinary-digit",
   "metadata": {},
   "outputs": [
    {
     "data": {
      "text/html": [
       "<div>\n",
       "<style scoped>\n",
       "    .dataframe tbody tr th:only-of-type {\n",
       "        vertical-align: middle;\n",
       "    }\n",
       "\n",
       "    .dataframe tbody tr th {\n",
       "        vertical-align: top;\n",
       "    }\n",
       "\n",
       "    .dataframe thead th {\n",
       "        text-align: right;\n",
       "    }\n",
       "</style>\n",
       "<table border=\"1\" class=\"dataframe\">\n",
       "  <thead>\n",
       "    <tr style=\"text-align: right;\">\n",
       "      <th></th>\n",
       "      <th>Int_rate</th>\n",
       "      <th>US_GDP_Thousands</th>\n",
       "      <th>Unemployment</th>\n",
       "      <th>Low_tier_HPI</th>\n",
       "    </tr>\n",
       "    <tr>\n",
       "      <th>HPI</th>\n",
       "      <th></th>\n",
       "      <th></th>\n",
       "      <th></th>\n",
       "      <th></th>\n",
       "    </tr>\n",
       "  </thead>\n",
       "  <tbody>\n",
       "    <tr>\n",
       "      <th>80</th>\n",
       "      <td>2</td>\n",
       "      <td>50</td>\n",
       "      <td>7</td>\n",
       "      <td>50</td>\n",
       "    </tr>\n",
       "    <tr>\n",
       "      <th>85</th>\n",
       "      <td>3</td>\n",
       "      <td>55</td>\n",
       "      <td>8</td>\n",
       "      <td>52</td>\n",
       "    </tr>\n",
       "    <tr>\n",
       "      <th>85</th>\n",
       "      <td>3</td>\n",
       "      <td>55</td>\n",
       "      <td>6</td>\n",
       "      <td>53</td>\n",
       "    </tr>\n",
       "    <tr>\n",
       "      <th>85</th>\n",
       "      <td>2</td>\n",
       "      <td>55</td>\n",
       "      <td>8</td>\n",
       "      <td>52</td>\n",
       "    </tr>\n",
       "    <tr>\n",
       "      <th>85</th>\n",
       "      <td>2</td>\n",
       "      <td>55</td>\n",
       "      <td>6</td>\n",
       "      <td>53</td>\n",
       "    </tr>\n",
       "    <tr>\n",
       "      <th>88</th>\n",
       "      <td>2</td>\n",
       "      <td>65</td>\n",
       "      <td>9</td>\n",
       "      <td>50</td>\n",
       "    </tr>\n",
       "  </tbody>\n",
       "</table>\n",
       "</div>"
      ],
      "text/plain": [
       "     Int_rate  US_GDP_Thousands  Unemployment  Low_tier_HPI\n",
       "HPI                                                        \n",
       "80          2                50             7            50\n",
       "85          3                55             8            52\n",
       "85          3                55             6            53\n",
       "85          2                55             8            52\n",
       "85          2                55             6            53\n",
       "88          2                65             9            50"
      ]
     },
     "execution_count": 47,
     "metadata": {},
     "output_type": "execute_result"
    }
   ],
   "source": [
    "# yhdistetään df1 ja df2 mergellä ja asetetaan HPI indeksiin\n",
    "df4 = pd.merge(df1, df3, on= \"HPI\")\n",
    "df4.set_index(\"HPI\", inplace=True)\n",
    "df4"
   ]
  },
  {
   "cell_type": "code",
   "execution_count": 49,
   "id": "tight-score",
   "metadata": {},
   "outputs": [],
   "source": [
    "df1 = pd.DataFrame({\n",
    "                    'Int_rate':[2, 3, 2, 2],\n",
    "                    'US_GDP_Thousands':[50, 55, 65, 55],\n",
    "                    'Year':[2001, 2002, 2003, 2004]\n",
    "                    })\n",
    "\n",
    "df3 = pd.DataFrame({\n",
    "                    'Unemployment':[7, 8, 9, 6],\n",
    "                    'Low_tier_HPI':[50, 52, 50, 53],\n",
    "                    'Year':[2001, 2003, 2004, 2005]})"
   ]
  },
  {
   "cell_type": "code",
   "execution_count": 50,
   "id": "lyric-analyst",
   "metadata": {},
   "outputs": [
    {
     "data": {
      "text/html": [
       "<div>\n",
       "<style scoped>\n",
       "    .dataframe tbody tr th:only-of-type {\n",
       "        vertical-align: middle;\n",
       "    }\n",
       "\n",
       "    .dataframe tbody tr th {\n",
       "        vertical-align: top;\n",
       "    }\n",
       "\n",
       "    .dataframe thead th {\n",
       "        text-align: right;\n",
       "    }\n",
       "</style>\n",
       "<table border=\"1\" class=\"dataframe\">\n",
       "  <thead>\n",
       "    <tr style=\"text-align: right;\">\n",
       "      <th></th>\n",
       "      <th>Int_rate</th>\n",
       "      <th>US_GDP_Thousands</th>\n",
       "      <th>Unemployment</th>\n",
       "      <th>Low_tier_HPI</th>\n",
       "    </tr>\n",
       "    <tr>\n",
       "      <th>Year</th>\n",
       "      <th></th>\n",
       "      <th></th>\n",
       "      <th></th>\n",
       "      <th></th>\n",
       "    </tr>\n",
       "  </thead>\n",
       "  <tbody>\n",
       "    <tr>\n",
       "      <th>2001</th>\n",
       "      <td>2.0</td>\n",
       "      <td>50.0</td>\n",
       "      <td>7.0</td>\n",
       "      <td>50.0</td>\n",
       "    </tr>\n",
       "    <tr>\n",
       "      <th>2002</th>\n",
       "      <td>3.0</td>\n",
       "      <td>55.0</td>\n",
       "      <td>NaN</td>\n",
       "      <td>NaN</td>\n",
       "    </tr>\n",
       "    <tr>\n",
       "      <th>2003</th>\n",
       "      <td>2.0</td>\n",
       "      <td>65.0</td>\n",
       "      <td>8.0</td>\n",
       "      <td>52.0</td>\n",
       "    </tr>\n",
       "    <tr>\n",
       "      <th>2004</th>\n",
       "      <td>2.0</td>\n",
       "      <td>55.0</td>\n",
       "      <td>9.0</td>\n",
       "      <td>50.0</td>\n",
       "    </tr>\n",
       "    <tr>\n",
       "      <th>2005</th>\n",
       "      <td>NaN</td>\n",
       "      <td>NaN</td>\n",
       "      <td>6.0</td>\n",
       "      <td>53.0</td>\n",
       "    </tr>\n",
       "  </tbody>\n",
       "</table>\n",
       "</div>"
      ],
      "text/plain": [
       "      Int_rate  US_GDP_Thousands  Unemployment  Low_tier_HPI\n",
       "Year                                                        \n",
       "2001       2.0              50.0           7.0          50.0\n",
       "2002       3.0              55.0           NaN           NaN\n",
       "2003       2.0              65.0           8.0          52.0\n",
       "2004       2.0              55.0           9.0          50.0\n",
       "2005       NaN               NaN           6.0          53.0"
      ]
     },
     "execution_count": 50,
     "metadata": {},
     "output_type": "execute_result"
    }
   ],
   "source": [
    "# how-parametri outer = full outer join SQL-komentona\n",
    "merged = pd.merge(df1, df3, on=\"Year\", how=\"outer\")\n",
    "merged.set_index(\"Year\", inplace=True)\n",
    "merged"
   ]
  },
  {
   "cell_type": "code",
   "execution_count": 51,
   "id": "incoming-justice",
   "metadata": {},
   "outputs": [
    {
     "name": "stdout",
     "output_type": "stream",
     "text": [
      "      Int_rate  US_GDP_Thousands  Unemployment  Low_tier_HPI\n",
      "Year                                                        \n",
      "2001       2.0              50.0           7.0          50.0\n",
      "2002       3.0              55.0           NaN           NaN\n",
      "2003       2.0              65.0           8.0          52.0\n",
      "2004       2.0              55.0           9.0          50.0\n",
      "2005       NaN               NaN           6.0          53.0\n"
     ]
    }
   ],
   "source": [
    "# joinin testaus\n",
    "df1.set_index('Year', inplace=True)\n",
    "df3.set_index('Year', inplace=True)\n",
    "joined = df1.join(df3, how=\"outer\")\n",
    "print(joined)"
   ]
  },
  {
   "cell_type": "code",
   "execution_count": null,
   "id": "muslim-experience",
   "metadata": {},
   "outputs": [],
   "source": [
    "Luentoviikko 3: Koneoppimisen periaatteet\n",
    "    \n",
    "Osallistuin jälleen viikon luennolle ja kooditorioon. Viikon ohjelmassa perehdyttiin \n",
    "koneoppimisen työnkulkuun. Tarjolla oli runsaasti esimerkkejä piirteiden erottamiseksi, \n",
    "jalostamiseksi ja luokittelemiseksi. Luokitteluun olikin oma esimerkki itselleni entuudestaan\n",
    "tutulla Iris-datasetillä. Aikaisemmin olin käyttänyt sitä R-kielen kurssilla ja olikin\n",
    "mielenkiintoista päästä puuhaamaan sillä näissä merkeissä. Linkki kyseisen harjoituksen \n",
    "repoon: https://github.com/tauimonen/machine-learning/blob/master/machine-learning/classification.ipynb \n",
    "Kooditoriossa perehdyttiin yhteen data science -kentän merkittävimpään saavutukseen, eli \n",
    "luottoriskimalliin. Alla viikon koodidemona tosin NLTK-kirjaston käyttöä. Kyseinen kirjasto \n",
    "on luotuluonnollisen kielen käsittelyyn. Esimerkkikoodien datat olivat hävinneet verkosta, \n",
    "mutta pienellä koodin viilauksella onnistuin saamaan mielenkiintoisia tuloksia. \n",
    "NLTK-kirjaston sentiment vaderilla suoritetaan siis tekstin sentimenttianalyysia.\n",
    "Kyseiselle kirjasto tukee myös suomen kieltä, joten suoritin myös sillä onnistuneita\n",
    "kokeiluita. \n"
   ]
  },
  {
   "cell_type": "code",
   "execution_count": null,
   "id": "constant-bloom",
   "metadata": {},
   "outputs": [],
   "source": [
    "Viikon 5 oppia/oivallusta:\n",
    "    -Nyt alkaa tuntua siltä, että oletaan olemaan koneoppimisen ytimessä. Muunmuassa\n",
    "    NLTK:hon, Pandasiin, Numpy:hyn ja scikit-learniin tutustuminen on avannut portit\n",
    "    tuntemattomaan datatieteen universumiin, joka poikkeaa jännällä tavalla perus \n",
    "    ohjelmistokehityksestä.\n",
    "    - Luottoriskimallin käyttö\n",
    "    - Luonnollisen kielen käsittely\n",
    "    - Asiakaspoistuma-analyysi\n",
    "    - Datan piirteiden luokittelu    \n",
    "    \n",
    "Kehityskohteet: \n",
    "    - Uskoisin, että monet arvoistaisivat ajantasaisia esimerkkejä, eli esim. päivittyneet\n",
    "    kirjastot johtavat siihen, että osa koodiesimerkeistä ei toimi. Itselle ne aiheuttavat\n",
    "    lähinnä mielenkiintoista ongelmienratkontaa, mutta luulen, että kokemattomammalle \n",
    "    koodaajalle ongelmat saattavat estää kokonaan esimerkkien suorittamisen. Kenties\n",
    "    kurssiassari voisi varmistaa materiaalien toimivuuden toimivuuden ennen niiden julkaisua.\n",
    "    "
   ]
  },
  {
   "cell_type": "code",
   "execution_count": 5,
   "id": "retired-custody",
   "metadata": {},
   "outputs": [],
   "source": [
    "from IPython.display import Image\n",
    "from IPython.core.display import HTML"
   ]
  },
  {
   "cell_type": "code",
   "execution_count": 4,
   "id": "optimum-rider",
   "metadata": {},
   "outputs": [
    {
     "name": "stderr",
     "output_type": "stream",
     "text": [
      "[nltk_data] Downloading package punkt to /home/jupyter/nltk_data...\n",
      "[nltk_data]   Unzipping tokenizers/punkt.zip.\n"
     ]
    },
    {
     "data": {
      "text/plain": [
       "True"
      ]
     },
     "execution_count": 4,
     "metadata": {},
     "output_type": "execute_result"
    }
   ],
   "source": [
    "import nltk\n",
    "nltk.download('punkt')"
   ]
  },
  {
   "cell_type": "code",
   "execution_count": 6,
   "id": "enhanced-belle",
   "metadata": {},
   "outputs": [
    {
     "data": {
      "text/plain": [
       "\"I was excited to see Nokia offer this phone in the US so I jumped when it was available for sale. If you have any doubts about the build quality or looks of this phone, you can dismiss them. The phone is extremely well built and looks fantastic. I would say better than some phones costing twice as much. The specs are pretty decent for the price as well - especially for a phone loaded with Android One. No heavy skin to weigh things down like so many other budget offerings. The icing on the cake is the screen. It's sharp, bright and the colors are very accurate. Again, hitting outside its class for a mid-range phone actually available and officially supported in the US market. Unfortunately, even with the SD 636 and 4GB of RAM, this phone lags and stutters a lot. I let all the updates finish loading before passing judgment but even with nothing running in the background, this thing just can't keep up. Swiping left into the Google feed is smooth as silk one time and jerky the next. Apps load slow and often times I would find myself tapping on an app icon twice thinking it didn't register my tap. It did but was just taking that long to even start loading. Pulling down the notification shade is another 50/50 experience - sometimes smooth, sometimes choppy. The camera app is also pretty sluggish for a phone with a 636 processor. The camera app is solid once it loads and photos are snappy to capture with good quality and detail in adequate lighting. Just don't expect miracles in low light at this price unless you have something to keep the phone very still and venture into pro mode. The mono speaker gets loud with only some minor distortion at high volume. Music sounds good through headphones but it doesn't push a lot of power to them so it's best to avoid anything with a higher impedance. Again, to be expected at this price. The HDR feature is nice and does make things pop a bit more but nothing mind blowing. Still, a nice little bonus to have in such an affordable phone with an IPS display. Finally, it has full support for US GSM carriers. I used it with T-Mobile and VoLTE worked great, data speeds were solid and connectivity was good even indoors. It should be noted if you are in an area with T-Mobile band 71 support, this phone does not support band 71. If you rely on Extended LTE with T-Mobile, you are limited to using band 12. I wanted to love this phone given how it looks and feels in the hand and all it brings at a good price. The screen is a pleasure to look at and photos are solid. I just can't get past the choppy UI experience. For a phone with Android One, it's definitely a letdown. I have a Moto G6 as my secondary device and that phone actually lags less in day-to-day use with far lesser specs. Perhaps this is something that can be fixed with a software update or will be addressed when the Android Pie update pushes out later this month. For now, if you purchase this phone expecting a smooth UI experience, you will likely be disappointed.\""
      ]
     },
     "execution_count": 6,
     "metadata": {},
     "output_type": "execute_result"
    }
   ],
   "source": [
    "# Jotta voidaan mukavasti tarkastella tuloksia napattiin arvioista yksi.\n",
    "arvio = \"I was excited to see Nokia offer this phone in the US so I jumped when it was available for sale. If you have any doubts about the build quality or looks of this phone, you can dismiss them. The phone is extremely well built and looks fantastic. I would say better than some phones costing twice as much. The specs are pretty decent for the price as well - especially for a phone loaded with Android One. No heavy skin to weigh things down like so many other budget offerings. The icing on the cake is the screen. It's sharp, bright and the colors are very accurate. Again, hitting outside its class for a mid-range phone actually available and officially supported in the US market. Unfortunately, even with the SD 636 and 4GB of RAM, this phone lags and stutters a lot. I let all the updates finish loading before passing judgment but even with nothing running in the background, this thing just can't keep up. Swiping left into the Google feed is smooth as silk one time and jerky the next. Apps load slow and often times I would find myself tapping on an app icon twice thinking it didn't register my tap. It did but was just taking that long to even start loading. Pulling down the notification shade is another 50/50 experience - sometimes smooth, sometimes choppy. The camera app is also pretty sluggish for a phone with a 636 processor. The camera app is solid once it loads and photos are snappy to capture with good quality and detail in adequate lighting. Just don't expect miracles in low light at this price unless you have something to keep the phone very still and venture into pro mode. The mono speaker gets loud with only some minor distortion at high volume. Music sounds good through headphones but it doesn't push a lot of power to them so it's best to avoid anything with a higher impedance. Again, to be expected at this price. The HDR feature is nice and does make things pop a bit more but nothing mind blowing. Still, a nice little bonus to have in such an affordable phone with an IPS display. Finally, it has full support for US GSM carriers. I used it with T-Mobile and VoLTE worked great, data speeds were solid and connectivity was good even indoors. It should be noted if you are in an area with T-Mobile band 71 support, this phone does not support band 71. If you rely on Extended LTE with T-Mobile, you are limited to using band 12. I wanted to love this phone given how it looks and feels in the hand and all it brings at a good price. The screen is a pleasure to look at and photos are solid. I just can't get past the choppy UI experience. For a phone with Android One, it's definitely a letdown. I have a Moto G6 as my secondary device and that phone actually lags less in day-to-day use with far lesser specs. Perhaps this is something that can be fixed with a software update or will be addressed when the Android Pie update pushes out later this month. For now, if you purchase this phone expecting a smooth UI experience, you will likely be disappointed.\"\n",
    "arvio"
   ]
  },
  {
   "cell_type": "code",
   "execution_count": 7,
   "id": "alternate-klein",
   "metadata": {},
   "outputs": [
    {
     "name": "stderr",
     "output_type": "stream",
     "text": [
      "/opt/conda/lib/python3.7/site-packages/IPython/core/display.py:717: UserWarning: Consider using IPython.display.IFrame instead\n",
      "  warnings.warn(\"Consider using IPython.display.IFrame instead\")\n"
     ]
    },
    {
     "data": {
      "text/html": [
       "<iframe width=\"560\" height=\"315\" src=\"https://www.youtube.com/embed/X2vAabgKiuM\" frameborder=\"0\" allow=\"accelerometer; autoplay; encrypted-media; gyroscope; picture-in-picture\" allowfullscreen></iframe>"
      ],
      "text/plain": [
       "<IPython.core.display.HTML object>"
      ]
     },
     "execution_count": 7,
     "metadata": {},
     "output_type": "execute_result"
    }
   ],
   "source": [
    "HTML('<iframe width=\"560\" height=\"315\" src=\"https://www.youtube.com/embed/X2vAabgKiuM\" frameborder=\"0\" allow=\"accelerometer; autoplay; encrypted-media; gyroscope; picture-in-picture\" allowfullscreen></iframe>')"
   ]
  },
  {
   "cell_type": "code",
   "execution_count": 8,
   "id": "crucial-generator",
   "metadata": {},
   "outputs": [
    {
     "name": "stdout",
     "output_type": "stream",
     "text": [
      "['I', 'was', 'excited', 'to', 'see', 'Nokia', 'offer', 'this', 'phone', 'in', 'the', 'US', 'so', 'I', 'jumped', 'when', 'it', 'was', 'available', 'for', 'sale', '.', 'If', 'you', 'have', 'any', 'doubts', 'about', 'the', 'build', 'quality', 'or', 'looks', 'of', 'this', 'phone', ',', 'you', 'can', 'dismiss', 'them', '.', 'The', 'phone', 'is', 'extremely', 'well', 'built', 'and', 'looks', 'fantastic', '.', 'I', 'would', 'say', 'better', 'than', 'some', 'phones', 'costing', 'twice', 'as', 'much', '.', 'The', 'specs', 'are', 'pretty', 'decent', 'for', 'the', 'price', 'as', 'well', '-', 'especially', 'for', 'a', 'phone', 'loaded', 'with', 'Android', 'One', '.', 'No', 'heavy', 'skin', 'to', 'weigh', 'things', 'down', 'like', 'so', 'many', 'other', 'budget', 'offerings', '.', 'The', 'icing', 'on', 'the', 'cake', 'is', 'the', 'screen', '.', 'It', \"'s\", 'sharp', ',', 'bright', 'and', 'the', 'colors', 'are', 'very', 'accurate', '.', 'Again', ',', 'hitting', 'outside', 'its', 'class', 'for', 'a', 'mid-range', 'phone', 'actually', 'available', 'and', 'officially', 'supported', 'in', 'the', 'US', 'market', '.', 'Unfortunately', ',', 'even', 'with', 'the', 'SD', '636', 'and', '4GB', 'of', 'RAM', ',', 'this', 'phone', 'lags', 'and', 'stutters', 'a', 'lot', '.', 'I', 'let', 'all', 'the', 'updates', 'finish', 'loading', 'before', 'passing', 'judgment', 'but', 'even', 'with', 'nothing', 'running', 'in', 'the', 'background', ',', 'this', 'thing', 'just', 'ca', \"n't\", 'keep', 'up', '.', 'Swiping', 'left', 'into', 'the', 'Google', 'feed', 'is', 'smooth', 'as', 'silk', 'one', 'time', 'and', 'jerky', 'the', 'next', '.', 'Apps', 'load', 'slow', 'and', 'often', 'times', 'I', 'would', 'find', 'myself', 'tapping', 'on', 'an', 'app', 'icon', 'twice', 'thinking', 'it', 'did', \"n't\", 'register', 'my', 'tap', '.', 'It', 'did', 'but', 'was', 'just', 'taking', 'that', 'long', 'to', 'even', 'start', 'loading', '.', 'Pulling', 'down', 'the', 'notification', 'shade', 'is', 'another', '50/50', 'experience', '-', 'sometimes', 'smooth', ',', 'sometimes', 'choppy', '.', 'The', 'camera', 'app', 'is', 'also', 'pretty', 'sluggish', 'for', 'a', 'phone', 'with', 'a', '636', 'processor', '.', 'The', 'camera', 'app', 'is', 'solid', 'once', 'it', 'loads', 'and', 'photos', 'are', 'snappy', 'to', 'capture', 'with', 'good', 'quality', 'and', 'detail', 'in', 'adequate', 'lighting', '.', 'Just', 'do', \"n't\", 'expect', 'miracles', 'in', 'low', 'light', 'at', 'this', 'price', 'unless', 'you', 'have', 'something', 'to', 'keep', 'the', 'phone', 'very', 'still', 'and', 'venture', 'into', 'pro', 'mode', '.', 'The', 'mono', 'speaker', 'gets', 'loud', 'with', 'only', 'some', 'minor', 'distortion', 'at', 'high', 'volume', '.', 'Music', 'sounds', 'good', 'through', 'headphones', 'but', 'it', 'does', \"n't\", 'push', 'a', 'lot', 'of', 'power', 'to', 'them', 'so', 'it', \"'s\", 'best', 'to', 'avoid', 'anything', 'with', 'a', 'higher', 'impedance', '.', 'Again', ',', 'to', 'be', 'expected', 'at', 'this', 'price', '.', 'The', 'HDR', 'feature', 'is', 'nice', 'and', 'does', 'make', 'things', 'pop', 'a', 'bit', 'more', 'but', 'nothing', 'mind', 'blowing', '.', 'Still', ',', 'a', 'nice', 'little', 'bonus', 'to', 'have', 'in', 'such', 'an', 'affordable', 'phone', 'with', 'an', 'IPS', 'display', '.', 'Finally', ',', 'it', 'has', 'full', 'support', 'for', 'US', 'GSM', 'carriers', '.', 'I', 'used', 'it', 'with', 'T-Mobile', 'and', 'VoLTE', 'worked', 'great', ',', 'data', 'speeds', 'were', 'solid', 'and', 'connectivity', 'was', 'good', 'even', 'indoors', '.', 'It', 'should', 'be', 'noted', 'if', 'you', 'are', 'in', 'an', 'area', 'with', 'T-Mobile', 'band', '71', 'support', ',', 'this', 'phone', 'does', 'not', 'support', 'band', '71', '.', 'If', 'you', 'rely', 'on', 'Extended', 'LTE', 'with', 'T-Mobile', ',', 'you', 'are', 'limited', 'to', 'using', 'band', '12', '.', 'I', 'wanted', 'to', 'love', 'this', 'phone', 'given', 'how', 'it', 'looks', 'and', 'feels', 'in', 'the', 'hand', 'and', 'all', 'it', 'brings', 'at', 'a', 'good', 'price', '.', 'The', 'screen', 'is', 'a', 'pleasure', 'to', 'look', 'at', 'and', 'photos', 'are', 'solid', '.', 'I', 'just', 'ca', \"n't\", 'get', 'past', 'the', 'choppy', 'UI', 'experience', '.', 'For', 'a', 'phone', 'with', 'Android', 'One', ',', 'it', \"'s\", 'definitely', 'a', 'letdown', '.', 'I', 'have', 'a', 'Moto', 'G6', 'as', 'my', 'secondary', 'device', 'and', 'that', 'phone', 'actually', 'lags', 'less', 'in', 'day-to-day', 'use', 'with', 'far', 'lesser', 'specs', '.', 'Perhaps', 'this', 'is', 'something', 'that', 'can', 'be', 'fixed', 'with', 'a', 'software', 'update', 'or', 'will', 'be', 'addressed', 'when', 'the', 'Android', 'Pie', 'update', 'pushes', 'out', 'later', 'this', 'month', '.', 'For', 'now', ',', 'if', 'you', 'purchase', 'this', 'phone', 'expecting', 'a', 'smooth', 'UI', 'experience', ',', 'you', 'will', 'likely', 'be', 'disappointed', '.']\n"
     ]
    }
   ],
   "source": [
    "from nltk.tokenize import word_tokenize\n",
    "tokenArvio=word_tokenize(arvio)\n",
    "print(tokenArvio)"
   ]
  },
  {
   "cell_type": "code",
   "execution_count": 9,
   "id": "ordered-prototype",
   "metadata": {},
   "outputs": [
    {
     "name": "stdout",
     "output_type": "stream",
     "text": [
      "<FreqDist with 297 samples and 612 outcomes>\n"
     ]
    }
   ],
   "source": [
    "from nltk.probability import FreqDist\n",
    "fdist = FreqDist(tokenArvio)\n",
    "print(fdist)"
   ]
  },
  {
   "cell_type": "code",
   "execution_count": 11,
   "id": "ceramic-foundation",
   "metadata": {},
   "outputs": [
    {
     "data": {
      "image/png": "[encoded data removed]",
      "text/plain": [
       "<Figure size 432x288 with 1 Axes>"
      ]
     },
     "metadata": {
      "needs_background": "light"
     },
     "output_type": "display_data"
    }
   ],
   "source": [
    "import matplotlib.pyplot as plt\n",
    "fdist.plot(30, cumulative=False)\n",
    "plt.show()"
   ]
  },
  {
   "cell_type": "code",
   "execution_count": 12,
   "id": "fancy-valentine",
   "metadata": {},
   "outputs": [
    {
     "name": "stderr",
     "output_type": "stream",
     "text": [
      "[nltk_data] Downloading package stopwords to\n",
      "[nltk_data]     /home/jupyter/nltk_data...\n",
      "[nltk_data]   Unzipping corpora/stopwords.zip.\n"
     ]
    },
    {
     "data": {
      "text/plain": [
       "True"
      ]
     },
     "execution_count": 12,
     "metadata": {},
     "output_type": "execute_result"
    }
   ],
   "source": [
    "nltk.download(\"stopwords\")"
   ]
  },
  {
   "cell_type": "code",
   "execution_count": 14,
   "id": "naval-blackberry",
   "metadata": {},
   "outputs": [
    {
     "name": "stdout",
     "output_type": "stream",
     "text": [
      "{\"you've\", 'both', 'for', \"mightn't\", 'being', 'through', 'who', 'is', 'each', 'with', 'am', 'd', 'his', 'after', 'at', 'yours', 'other', 'no', 'have', 'such', 'can', 'from', 'ours', 'of', 'shan', 'themselves', 'haven', 'nor', 'a', 'hers', \"wasn't\", 'where', 'has', \"it's\", 'yourself', 'all', 'doesn', 'too', 'into', 's', \"wouldn't\", 'so', 'in', 'himself', \"that'll\", 'few', 'above', 'against', 'and', 'these', 'yourselves', 'when', 'the', \"won't\", 'below', 'you', 'that', 'or', 'until', 'most', 'weren', 'just', 'our', 'here', 'to', 'while', 'shouldn', 'hasn', \"couldn't\", 'how', 'y', \"weren't\", 'your', 'this', 'out', 'between', 'very', 'during', 't', 'isn', 'should', \"didn't\", 'their', 'she', 'same', \"don't\", 'won', 'an', 'as', 'did', 'was', 'couldn', 'her', 'herself', 'off', \"shan't\", 'which', 'more', 'myself', 'mightn', 'theirs', 'will', 'my', 'mustn', 'hadn', 'itself', 'those', 'ourselves', \"you'll\", 'are', 'does', \"should've\", 'not', 'up', 'on', 've', \"you'd\", \"she's\", 'than', 'm', 'me', 'then', 'wouldn', 'them', 'be', 'o', 'wasn', 'once', \"haven't\", 'whom', \"doesn't\", 'been', 'any', 'i', \"aren't\", 'by', 'there', \"mustn't\", \"you're\", 'if', \"needn't\", 'had', 'because', 'll', 'doing', 'him', 'but', 'aren', 'now', 'ma', 'do', 'further', 'needn', 'it', 'why', 'don', 'he', 'own', 'having', 'we', 'were', 're', 'about', \"isn't\", 'before', 'only', 'didn', \"hadn't\", 'what', 'its', 'again', 'they', 'some', \"shouldn't\", 'ain', 'under', 'over', \"hasn't\", 'down'}\n"
     ]
    }
   ],
   "source": [
    "# Ladataan NLTK Stopword-lista\n",
    "from nltk.corpus import stopwords\n",
    "stopwords = set(stopwords.words(\"english\"))\n",
    "print(set(stopwords))"
   ]
  },
  {
   "cell_type": "code",
   "execution_count": 18,
   "id": "integrated-oregon",
   "metadata": {},
   "outputs": [
    {
     "data": {
      "image/png": "[encoded data removed]",
      "text/plain": [
       "<Figure size 432x288 with 1 Axes>"
      ]
     },
     "metadata": {
      "needs_background": "light"
     },
     "output_type": "display_data"
    }
   ],
   "source": [
    "# luodaan uusin muuttuja johon listaamme arvion sanat kun olemme ensin \n",
    "# poistaneet hukkasanat ja välimerkit\n",
    "putsattuStopArvio = []\n",
    "for w in tokenArvio:\n",
    "    if w not in stopwords:\n",
    "        putsattuStopArvio.append(w)\n",
    "putsattuStopArvio = [sana.lower() for sana in putsattuStopArvio if sana.isalpha()]\n",
    "fdist = FreqDist(putsattuStopArvio)\n",
    "fdist.plot(30, cumulative=False)\n",
    "plt.show()"
   ]
  },
  {
   "cell_type": "code",
   "execution_count": 20,
   "id": "graduate-recorder",
   "metadata": {},
   "outputs": [
    {
     "name": "stderr",
     "output_type": "stream",
     "text": [
      "[nltk_data] Downloading package averaged_perceptron_tagger to\n",
      "[nltk_data]     /home/jupyter/nltk_data...\n",
      "[nltk_data]   Unzipping taggers/averaged_perceptron_tagger.zip.\n"
     ]
    },
    {
     "data": {
      "text/plain": [
       "True"
      ]
     },
     "execution_count": 20,
     "metadata": {},
     "output_type": "execute_result"
    }
   ],
   "source": [
    "nltk.download(\"averaged_perceptron_tagger\")"
   ]
  },
  {
   "cell_type": "code",
   "execution_count": 23,
   "id": "comic-stylus",
   "metadata": {},
   "outputs": [
    {
     "data": {
      "text/plain": [
       "[('I', 'PRP'),\n",
       " ('was', 'VBD'),\n",
       " ('excited', 'VBN'),\n",
       " ('to', 'TO'),\n",
       " ('see', 'VB'),\n",
       " ('Nokia', 'NNP'),\n",
       " ('offer', 'VB'),\n",
       " ('this', 'DT'),\n",
       " ('phone', 'NN'),\n",
       " ('in', 'IN'),\n",
       " ('the', 'DT'),\n",
       " ('US', 'NNP'),\n",
       " ('so', 'IN'),\n",
       " ('I', 'PRP'),\n",
       " ('jumped', 'VBD'),\n",
       " ('when', 'WRB'),\n",
       " ('it', 'PRP'),\n",
       " ('was', 'VBD'),\n",
       " ('available', 'JJ'),\n",
       " ('for', 'IN'),\n",
       " ('sale', 'NN'),\n",
       " ('.', '.')]"
      ]
     },
     "execution_count": 23,
     "metadata": {},
     "output_type": "execute_result"
    }
   ],
   "source": [
    "from nltk.tokenize import sent_tokenize\n",
    "# Tarkastelun helpottamiseksi katsotaan vain yhtä lausetta\n",
    "lauseet=sent_tokenize(arvio)\n",
    "# Part of speech (POS) -tunnisteet\n",
    "lauseToken=nltk.word_tokenize(lauseet[0])\n",
    "nltk.pos_tag(lauseToken)"
   ]
  },
  {
   "cell_type": "code",
   "execution_count": 37,
   "id": "precious-consistency",
   "metadata": {},
   "outputs": [
    {
     "name": "stderr",
     "output_type": "stream",
     "text": [
      "[nltk_data] Downloading package vader_lexicon to\n",
      "[nltk_data]     /home/jupyter/nltk_data...\n"
     ]
    }
   ],
   "source": [
    "from nltk.sentiment.vader import SentimentIntensityAnalyzer\n",
    "from nltk import sentiment\n",
    "nltk.download('vader_lexicon')\n",
    "sid = SentimentIntensityAnalyzer()"
   ]
  },
  {
   "cell_type": "code",
   "execution_count": 38,
   "id": "prepared-anxiety",
   "metadata": {},
   "outputs": [
    {
     "name": "stdout",
     "output_type": "stream",
     "text": [
      "I was excited to see Nokia offer this phone in the US so I jumped when it was available for sale.\n",
      "compound: 0.34, neg: 0.0, neu: 0.882, pos: 0.118, \n",
      "If you have any doubts about the build quality or looks of this phone, you can dismiss them.\n",
      "compound: -0.296, neg: 0.115, neu: 0.885, pos: 0.0, \n",
      "The phone is extremely well built and looks fantastic.\n",
      "compound: 0.7178, neg: 0.0, neu: 0.539, pos: 0.461, \n",
      "I would say better than some phones costing twice as much.\n",
      "compound: 0.4404, neg: 0.0, neu: 0.756, pos: 0.244, \n",
      "The specs are pretty decent for the price as well - especially for a phone loaded with Android One.\n",
      "compound: 0.6486, neg: 0.0, neu: 0.739, pos: 0.261, \n",
      "No heavy skin to weigh things down like so many other budget offerings.\n",
      "compound: 0.0772, neg: 0.14, neu: 0.701, pos: 0.159, \n",
      "The icing on the cake is the screen.\n",
      "compound: 0.0, neg: 0.0, neu: 1.0, pos: 0.0, \n",
      "It's sharp, bright and the colors are very accurate.\n",
      "compound: 0.4404, neg: 0.0, neu: 0.734, pos: 0.266, \n",
      "Again, hitting outside its class for a mid-range phone actually available and officially supported in the US market.\n",
      "compound: 0.3182, neg: 0.0, neu: 0.874, pos: 0.126, \n",
      "Unfortunately, even with the SD 636 and 4GB of RAM, this phone lags and stutters a lot.\n",
      "compound: -0.7096, neg: 0.347, neu: 0.653, pos: 0.0, \n",
      "I let all the updates finish loading before passing judgment but even with nothing running in the background, this thing just can't keep up.\n",
      "compound: 0.0, neg: 0.0, neu: 1.0, pos: 0.0, \n",
      "Swiping left into the Google feed is smooth as silk one time and jerky the next.\n",
      "compound: 0.0, neg: 0.0, neu: 1.0, pos: 0.0, \n",
      "Apps load slow and often times I would find myself tapping on an app icon twice thinking it didn't register my tap.\n",
      "compound: 0.0, neg: 0.0, neu: 1.0, pos: 0.0, \n",
      "It did but was just taking that long to even start loading.\n",
      "compound: 0.0, neg: 0.0, neu: 1.0, pos: 0.0, \n",
      "Pulling down the notification shade is another 50/50 experience - sometimes smooth, sometimes choppy.\n",
      "compound: 0.0, neg: 0.0, neu: 1.0, pos: 0.0, \n",
      "The camera app is also pretty sluggish for a phone with a 636 processor.\n",
      "compound: 0.128, neg: 0.17, neu: 0.629, pos: 0.201, \n",
      "The camera app is solid once it loads and photos are snappy to capture with good quality and detail in adequate lighting.\n",
      "compound: 0.6597, neg: 0.0, neu: 0.748, pos: 0.252, \n",
      "Just don't expect miracles in low light at this price unless you have something to keep the phone very still and venture into pro mode.\n",
      "compound: -0.2732, neg: 0.08, neu: 0.92, pos: 0.0, \n",
      "The mono speaker gets loud with only some minor distortion at high volume.\n",
      "compound: 0.0, neg: 0.0, neu: 1.0, pos: 0.0, \n",
      "Music sounds good through headphones but it doesn't push a lot of power to them so it's best to avoid anything with a higher impedance.\n",
      "compound: 0.7482, neg: 0.09, neu: 0.646, pos: 0.264, \n",
      "Again, to be expected at this price.\n",
      "compound: 0.0, neg: 0.0, neu: 1.0, pos: 0.0, \n",
      "The HDR feature is nice and does make things pop a bit more but nothing mind blowing.\n",
      "compound: 0.2263, neg: 0.0, neu: 0.888, pos: 0.112, \n",
      "Still, a nice little bonus to have in such an affordable phone with an IPS display.\n",
      "compound: 0.719, neg: 0.0, neu: 0.684, pos: 0.316, \n",
      "Finally, it has full support for US GSM carriers.\n",
      "compound: 0.4019, neg: 0.0, neu: 0.748, pos: 0.252, \n",
      "I used it with T-Mobile and VoLTE worked great, data speeds were solid and connectivity was good even indoors.\n",
      "compound: 0.8225, neg: 0.0, neu: 0.636, pos: 0.364, \n",
      "It should be noted if you are in an area with T-Mobile band 71 support, this phone does not support band 71.\n",
      "compound: 0.6597, neg: 0.0, neu: 0.787, pos: 0.213, \n",
      "If you rely on Extended LTE with T-Mobile, you are limited to using band 12.\n",
      "compound: -0.2263, neg: 0.119, neu: 0.881, pos: 0.0, \n",
      "I wanted to love this phone given how it looks and feels in the hand and all it brings at a good price.\n",
      "compound: 0.8834, neg: 0.0, neu: 0.636, pos: 0.364, \n",
      "The screen is a pleasure to look at and photos are solid.\n",
      "compound: 0.6486, neg: 0.0, neu: 0.629, pos: 0.371, \n",
      "I just can't get past the choppy UI experience.\n",
      "compound: 0.0, neg: 0.0, neu: 1.0, pos: 0.0, \n",
      "For a phone with Android One, it's definitely a letdown.\n",
      "compound: 0.4019, neg: 0.0, neu: 0.722, pos: 0.278, \n",
      "I have a Moto G6 as my secondary device and that phone actually lags less in day-to-day use with far lesser specs.\n",
      "compound: -0.3612, neg: 0.116, neu: 0.884, pos: 0.0, \n",
      "Perhaps this is something that can be fixed with a software update or will be addressed when the Android Pie update pushes out later this month.\n",
      "compound: 0.0, neg: 0.0, neu: 1.0, pos: 0.0, \n",
      "For now, if you purchase this phone expecting a smooth UI experience, you will likely be disappointed.\n",
      "compound: -0.4767, neg: 0.171, neu: 0.829, pos: 0.0, \n"
     ]
    }
   ],
   "source": [
    "for sentence in lauseet:\n",
    "    print(sentence)\n",
    "    scores = sid.polarity_scores(sentence)\n",
    "    for key in sorted(scores):\n",
    "        print('{0}: {1}, '.format(key, scores[key]), end='')\n",
    "    print()"
   ]
  },
  {
   "cell_type": "code",
   "execution_count": null,
   "id": "silent-survivor",
   "metadata": {},
   "outputs": [],
   "source": [
    "Luentoviikko 4: Harjoitustyöhön tutustuminen.\n",
    "    \n",
    "Tällä viikolla katsoin luennon ja demosession jälkikäteen kiireiden vuoksi, mutta nauhottelilla sai hyvin \n",
    "asioista kiinni. Airbnb-esimerkkianalyyseja tuli pyöriteltyä useammankin kaupungin dataseteillä ja \n",
    "esimerkkianalyysin vanhetuneet kirjastot, ym. pienet ongelmat aiheuttivat pientä mielenkiintoista \n",
    "ongelmanratkontaa. Tässä vaiheessa ideoita harjoitustyön aiheeksi olisi vielä muitakin, mutta kenties\n",
    "olisi turvallisinta pitäytyä Airbnb-aineistossa, koska tukea on enemmän tarjolla. Kenties Airbnb-aineistoon\n",
    "olisi vielä liitettävissä jotain paikallisia tilastoja esim. kaupunginosien sosioekonomisista piirteistä\n",
    "ja sitten voisi pohtia myös niiden vaikutusta hintoihin. Koodiklinikalla jatkettiin datan jalostusta\n",
    "ja syvennyttiin lineaariregressioon."
   ]
  },
  {
   "cell_type": "code",
   "execution_count": null,
   "id": "prerequisite-chicken",
   "metadata": {},
   "outputs": [],
   "source": [
    "Viikon 5 oppia/oivallusta:\n",
    "    - Datasettien yhdistely on hankalaa, jos yhteisiä attribuutteja ei meinaa löytyä\n",
    "    - Jupyter Notebookin käyttö alkaa tuntua luontevalta. Google AI Platform toimii niin hyvin,\n",
    "    että harkitsen sen mahdollisuuksien syvempää opiskelua.\n",
    "    - Mallien rakentaminen tuntuu oisin vielä aika rakettitieteeltä.\n",
    "    - Tähän mennessä käytettyijen Pandasin ja NymPyn funktioiden parametreihin on tullut \n",
    "    pikkuhiljaa tutustuttua.\n",
    "    - Datatiedeprojektin kysymyksenasettelu on tärkeässä roolissa ja sen hahmoittaminen on\n",
    "    vielä hankalaa, koska sitä ei ole harjoitellut. Esimerkkejä tekemällä mahdollisuudet\n",
    "    avautuvat pikkuhiljaa.\n",
    "\n",
    "    \n",
    "Kehityskohteet: \n",
    "    - Jos koodiklinikalla syvennytään lineaariregressioon, niin ehkä jotain teoriaakin aiheesta\n",
    "    voisi olla saatavilla pelkän koodin ajamisen lisäksi. Ainakin itseäni kiinnostavat myös taustalla \n",
    "    olevat teoriat.\n"
   ]
  },
  {
   "cell_type": "code",
   "execution_count": null,
   "id": "fatal-warning",
   "metadata": {},
   "outputs": [],
   "source": [
    "Alla koodidemona koodiklinikan vaihtoehtoinen lähestymistapa lineaariregression \n",
    "käyttämiseksi ennustuksessa."
   ]
  },
  {
   "cell_type": "code",
   "execution_count": 1,
   "id": "vanilla-guyana",
   "metadata": {},
   "outputs": [],
   "source": [
    "import pandas as pd\n",
    "import numpy as np\n",
    "\n",
    "from sklearn import preprocessing\n",
    "from sklearn import linear_model\n",
    "from sklearn.model_selection import cross_val_predict\n",
    "from sklearn.impute import SimpleImputer\n",
    "\n",
    "import matplotlib.pyplot as plt\n",
    "import os"
   ]
  },
  {
   "cell_type": "code",
   "execution_count": 3,
   "id": "industrial-bicycle",
   "metadata": {},
   "outputs": [
    {
     "name": "stdout",
     "output_type": "stream",
     "text": [
      "<class 'pandas.core.frame.DataFrame'>\n",
      "RangeIndex: 16313 entries, 0 to 16312\n",
      "Data columns (total 96 columns):\n",
      " #   Column                            Non-Null Count  Dtype  \n",
      "---  ------                            --------------  -----  \n",
      " 0   id                                16313 non-null  int64  \n",
      " 1   listing_url                       16313 non-null  object \n",
      " 2   scrape_id                         16313 non-null  int64  \n",
      " 3   last_scraped                      16313 non-null  object \n",
      " 4   name                              16302 non-null  object \n",
      " 5   summary                           15860 non-null  object \n",
      " 6   space                             11798 non-null  object \n",
      " 7   description                       16305 non-null  object \n",
      " 8   experiences_offered               16313 non-null  object \n",
      " 9   neighborhood_overview             10343 non-null  object \n",
      " 10  notes                             6734 non-null   object \n",
      " 11  transit                           10186 non-null  object \n",
      " 12  access                            9057 non-null   object \n",
      " 13  interaction                       9196 non-null   object \n",
      " 14  house_rules                       10189 non-null  object \n",
      " 15  thumbnail_url                     0 non-null      float64\n",
      " 16  medium_url                        0 non-null      float64\n",
      " 17  picture_url                       16313 non-null  object \n",
      " 18  xl_picture_url                    0 non-null      float64\n",
      " 19  host_id                           16313 non-null  int64  \n",
      " 20  host_url                          16313 non-null  object \n",
      " 21  host_name                         16284 non-null  object \n",
      " 22  host_since                        16284 non-null  object \n",
      " 23  host_location                     16223 non-null  object \n",
      " 24  host_about                        9965 non-null   object \n",
      " 25  host_response_time                13805 non-null  object \n",
      " 26  host_response_rate                13805 non-null  object \n",
      " 27  host_acceptance_rate              0 non-null      float64\n",
      " 28  host_is_superhost                 16284 non-null  object \n",
      " 29  host_thumbnail_url                16284 non-null  object \n",
      " 30  host_picture_url                  16284 non-null  object \n",
      " 31  host_neighbourhood                11888 non-null  object \n",
      " 32  host_listings_count               16284 non-null  float64\n",
      " 33  host_total_listings_count         16284 non-null  float64\n",
      " 34  host_verifications                16313 non-null  object \n",
      " 35  host_has_profile_pic              16284 non-null  object \n",
      " 36  host_identity_verified            16284 non-null  object \n",
      " 37  street                            16313 non-null  object \n",
      " 38  neighbourhood                     16309 non-null  object \n",
      " 39  neighbourhood_cleansed            16313 non-null  object \n",
      " 40  neighbourhood_group_cleansed      16313 non-null  object \n",
      " 41  city                              16311 non-null  object \n",
      " 42  state                             16230 non-null  object \n",
      " 43  zipcode                           15693 non-null  object \n",
      " 44  market                            16262 non-null  object \n",
      " 45  smart_location                    16313 non-null  object \n",
      " 46  country_code                      16313 non-null  object \n",
      " 47  country                           16312 non-null  object \n",
      " 48  latitude                          16313 non-null  float64\n",
      " 49  longitude                         16313 non-null  float64\n",
      " 50  is_location_exact                 16313 non-null  object \n",
      " 51  property_type                     16313 non-null  object \n",
      " 52  room_type                         16313 non-null  object \n",
      " 53  accommodates                      16313 non-null  int64  \n",
      " 54  bathrooms                         16275 non-null  float64\n",
      " 55  bedrooms                          16308 non-null  float64\n",
      " 56  beds                              16281 non-null  float64\n",
      " 57  bed_type                          16313 non-null  object \n",
      " 58  amenities                         16313 non-null  object \n",
      " 59  square_feet                       446 non-null    float64\n",
      " 60  price                             16313 non-null  object \n",
      " 61  weekly_price                      2879 non-null   object \n",
      " 62  monthly_price                     2703 non-null   object \n",
      " 63  security_deposit                  10095 non-null  object \n",
      " 64  cleaning_fee                      11400 non-null  object \n",
      " 65  guests_included                   16313 non-null  int64  \n",
      " 66  extra_people                      16313 non-null  object \n",
      " 67  minimum_nights                    16313 non-null  int64  \n",
      " 68  maximum_nights                    16313 non-null  int64  \n",
      " 69  calendar_updated                  16313 non-null  object \n",
      " 70  has_availability                  16313 non-null  object \n",
      " 71  availability_30                   16313 non-null  int64  \n",
      " 72  availability_60                   16313 non-null  int64  \n",
      " 73  availability_90                   16313 non-null  int64  \n",
      " 74  availability_365                  16313 non-null  int64  \n",
      " 75  calendar_last_scraped             16313 non-null  object \n",
      " 76  number_of_reviews                 16313 non-null  int64  \n",
      " 77  first_review                      13261 non-null  object \n",
      " 78  last_review                       13290 non-null  object \n",
      " 79  review_scores_rating              13118 non-null  float64\n",
      " 80  review_scores_accuracy            13105 non-null  float64\n",
      " 81  review_scores_cleanliness         13111 non-null  float64\n",
      " 82  review_scores_checkin             13089 non-null  float64\n",
      " 83  review_scores_communication       13104 non-null  float64\n",
      " 84  review_scores_location            13083 non-null  float64\n",
      " 85  review_scores_value               13082 non-null  float64\n",
      " 86  requires_license                  16313 non-null  object \n",
      " 87  license                           1511 non-null   object \n",
      " 88  jurisdiction_names                0 non-null      float64\n",
      " 89  instant_bookable                  16313 non-null  object \n",
      " 90  is_business_travel_ready          16313 non-null  object \n",
      " 91  cancellation_policy               16313 non-null  object \n",
      " 92  require_guest_profile_picture     16313 non-null  object \n",
      " 93  require_guest_phone_verification  16313 non-null  object \n",
      " 94  calculated_host_listings_count    16313 non-null  int64  \n",
      " 95  reviews_per_month                 13261 non-null  float64\n",
      "dtypes: float64(21), int64(13), object(62)\n",
      "memory usage: 11.9+ MB\n",
      "None\n"
     ]
    }
   ],
   "source": [
    "# Load data\n",
    "if os.path.exists('data.csv'):\n",
    "    df = pd.read_csv('data.csv')\n",
    "else:\n",
    "    df = pd.read_csv('http://data.insideairbnb.com/spain/comunidad-de-madrid/madrid/2018-01-17/data/listings.csv.gz', \n",
    "                      compression='gzip')\n",
    "    df.to_csv('data.csv')\n",
    "\n",
    "print(df.info())"
   ]
  },
  {
   "cell_type": "code",
   "execution_count": 2,
   "id": "circular-reason",
   "metadata": {},
   "outputs": [
    {
     "name": "stdout",
     "output_type": "stream",
     "text": [
      "review_scores_accuracy         3208\n",
      "review_scores_cleanliness      3202\n",
      "review_scores_checkin          3224\n",
      "review_scores_communication    3209\n",
      "review_scores_location         3230\n",
      "review_scores_value            3231\n",
      "review_scores_rating           3195\n",
      "dtype: int64\n"
     ]
    }
   ],
   "source": [
    "df = pd.read_csv('data.csv')\n",
    "\n",
    "#select a subset of attributes \n",
    "df = df[['review_scores_accuracy','review_scores_cleanliness',\n",
    "         'review_scores_checkin','review_scores_communication',\n",
    "         'review_scores_location','review_scores_value',\n",
    "         'review_scores_rating']]\n",
    "\n",
    "print(df.isnull().sum())"
   ]
  },
  {
   "cell_type": "code",
   "execution_count": 3,
   "id": "relevant-scoop",
   "metadata": {},
   "outputs": [
    {
     "name": "stdout",
     "output_type": "stream",
     "text": [
      "review_scores_accuracy         14\n",
      "review_scores_cleanliness       8\n",
      "review_scores_checkin          30\n",
      "review_scores_communication    15\n",
      "review_scores_location         36\n",
      "review_scores_value            37\n",
      "review_scores_rating            1\n",
      "dtype: int64\n"
     ]
    }
   ],
   "source": [
    "# Drop rows where all attributes are nan\n",
    "df.dropna(axis=0, how='all', inplace=True)\n",
    "\n",
    "print(df.isnull().sum())"
   ]
  },
  {
   "cell_type": "code",
   "execution_count": 4,
   "id": "reflected-effectiveness",
   "metadata": {},
   "outputs": [
    {
     "name": "stdout",
     "output_type": "stream",
     "text": [
      "review_scores_accuracy         0\n",
      "review_scores_cleanliness      0\n",
      "review_scores_checkin          0\n",
      "review_scores_communication    0\n",
      "review_scores_location         0\n",
      "review_scores_value            0\n",
      "review_scores_rating           0\n",
      "dtype: int64\n"
     ]
    }
   ],
   "source": [
    "imputer = SimpleImputer(strategy=\"median\")\n",
    "df_imp = pd.DataFrame(imputer.fit_transform(df))\n",
    "\n",
    "df_imp.columns = df.columns\n",
    "df_imp.index = df.index\n",
    "print(df_imp.isnull().sum())"
   ]
  },
  {
   "cell_type": "code",
   "execution_count": 7,
   "id": "interested-supplier",
   "metadata": {},
   "outputs": [
    {
     "data": {
      "image/png": "[encoded data removed]",
      "text/plain": [
       "<Figure size 1440x720 with 1 Axes>"
      ]
     },
     "metadata": {
      "needs_background": "light"
     },
     "output_type": "display_data"
    }
   ],
   "source": [
    "# Run Linear Regression\n",
    "lr = linear_model.LinearRegression()\n",
    "\n",
    "y = df_imp.review_scores_rating\n",
    "X = df_imp.drop(columns='review_scores_rating')\n",
    "\n",
    "predict = cross_val_predict(lr, X, y, cv=10)\n",
    "\n",
    "fig, ax = plt.subplots(figsize=(20, 10))\n",
    "ax.scatter(y, predict, edgecolors=(0, 0, 0))\n",
    "ax.plot([y.min(), y.max()], [y.min(), y.max()], 'k--', lw=4)\n",
    "ax.set_xlabel('Measured')\n",
    "ax.set_ylabel('Predicted')\n",
    "plt.show()"
   ]
  },
  {
   "cell_type": "code",
   "execution_count": 8,
   "id": "proof-shield",
   "metadata": {},
   "outputs": [
    {
     "name": "stdout",
     "output_type": "stream",
     "text": [
      "review_scores_accuracy         0.770071\n",
      "review_scores_cleanliness      0.708366\n",
      "review_scores_checkin          0.630672\n",
      "review_scores_communication    0.663967\n",
      "review_scores_location         0.424600\n",
      "review_scores_value            0.799894\n",
      "review_scores_rating           1.000000\n",
      "Name: review_scores_rating, dtype: float64\n"
     ]
    }
   ],
   "source": [
    "# Then we can check the correlation values\n",
    "print(df.corr()['review_scores_rating'])"
   ]
  },
  {
   "cell_type": "code",
   "execution_count": null,
   "id": "crucial-portable",
   "metadata": {},
   "outputs": [],
   "source": [
    "Luentoviikko 5:\n",
    "    Tällä viikolla oli ohjelmassa vierailuluento ja NLP:n esittelyä. \n",
    "    NLP on yksi datatieteiden eritysala, jossa datalähteenä on \n",
    "    luonnollinen kieli. Luennon koodiesimerkissä luokiteltiin \n",
    "    eduskuntadataa. Esimerkissä käytiin havoinnollisesti kaikki \n",
    "    NLP-datatiedeprojektissa vaadittavat vaiheet:\n",
    "        - Kirjastojen lataus ja asennus\n",
    "        - Datan lataus\n",
    "        - Datan esikäsittely\n",
    "        - Esikäsiteltyjen tiedostojen kirjoitus\n",
    "        - Mallin opettaminen\n",
    "        - Mallin testaus\n",
    "        - Mallin soveltaminen\n",
    "    \n",
    "    "
   ]
  },
  {
   "cell_type": "code",
   "execution_count": null,
   "id": "hydraulic-nirvana",
   "metadata": {},
   "outputs": [],
   "source": [
    "Viikon 5 oppia/oivallusta:\n",
    "        - Libvoikko on yksi parhaimpia kirjastoja suomen kielen käsittelyyn.\n",
    "        - En saanut toimimaan libvoikkoa Debian-ympäristössä kovasta yrityksestä\n",
    "        huolimatta. Ilmeisesti siihen pitäisi käyttää jotain erikoiskeinoja, mutta\n",
    "        en löytänyt toimivaa ratkaisua.\n",
    "        - FastText NLP-kirjasto on hyvä ratkaisu sanojen vektorimuotoiseen käsittelyyn.\n",
    "        - Mallia ei kannata opettaa liikaa samalla datalla, koska muuten se saattaa\n",
    "        erikoistua testidataan.\n",
    "    \n",
    "Kehityskohteet: \n",
    "    - Vierailuluento oli erinomainen ja moniäänisyys teki siitä sopivan rönsyilevän. \n",
    "    Tätä lisää.\n",
    "    "
   ]
  },
  {
   "cell_type": "code",
   "execution_count": null,
   "id": "pointed-birmingham",
   "metadata": {},
   "outputs": [],
   "source": [
    "Koodidemona leikin Scikit.learnin valmiilla datasetillä. Esimerkissä käytettiin\n",
    "KNeigborsRegressoria ja skaalausta tehtiin StandardScalerilla. Pipelinea käytettiin\n",
    "eri presessointien ketjutukseen. Pipelinen kanssa oli alkuun ongelmia, mutta kun\n",
    "päivitin Scikit-learnin ja uudelleenkäynnistin Jupyter Notebookin Google AI Platformissa\n",
    "komennolla \"sudo service jupyter restart\", niin homma lähti toimimaan, kun kernelin tajusi \n",
    "vielä laittaa päälle."
   ]
  },
  {
   "cell_type": "code",
   "execution_count": 37,
   "id": "bored-detector",
   "metadata": {},
   "outputs": [
    {
     "name": "stdout",
     "output_type": "stream",
     "text": [
      "Requirement already satisfied: scikit-learn==0.23.0 in /opt/conda/lib/python3.7/site-packages (0.23.0)\n",
      "Requirement already satisfied: scipy>=0.19.1 in /opt/conda/lib/python3.7/site-packages (from scikit-learn==0.23.0) (1.4.1)\n",
      "Requirement already satisfied: joblib>=0.11 in /opt/conda/lib/python3.7/site-packages (from scikit-learn==0.23.0) (1.0.1)\n",
      "Requirement already satisfied: numpy>=1.13.3 in /opt/conda/lib/python3.7/site-packages (from scikit-learn==0.23.0) (1.19.5)\n",
      "Requirement already satisfied: threadpoolctl>=2.0.0 in /opt/conda/lib/python3.7/site-packages (from scikit-learn==0.23.0) (2.1.0)\n",
      "Note: you may need to restart the kernel to use updated packages.\n"
     ]
    }
   ],
   "source": [
    "%pip install --upgrade scikit-learn==0.23.0"
   ]
  },
  {
   "cell_type": "code",
   "execution_count": 1,
   "id": "green-butter",
   "metadata": {},
   "outputs": [],
   "source": [
    "from sklearn.datasets import load_boston\n",
    "X, y = load_boston(return_X_y=True)"
   ]
  },
  {
   "cell_type": "code",
   "execution_count": 2,
   "id": "herbal-province",
   "metadata": {},
   "outputs": [
    {
     "data": {
      "text/plain": [
       "array([30.00384338, 25.02556238, 30.56759672])"
      ]
     },
     "execution_count": 2,
     "metadata": {},
     "output_type": "execute_result"
    }
   ],
   "source": [
    "from sklearn.neighbors import KNeighborsRegressor\n",
    "from sklearn.linear_model import LinearRegression\n",
    "\n",
    "from sklearn.datasets import load_boston\n",
    "X, y = load_boston(return_X_y=True)\n",
    "\n",
    "mod = LinearRegression()\n",
    "mod.fit(X, y)\n",
    "mod.predict(X)[:3]"
   ]
  },
  {
   "cell_type": "code",
   "execution_count": 3,
   "id": "durable-waste",
   "metadata": {},
   "outputs": [
    {
     "data": {
      "text/plain": [
       "array([21.78, 22.9 , 25.36])"
      ]
     },
     "execution_count": 3,
     "metadata": {},
     "output_type": "execute_result"
    }
   ],
   "source": [
    "mod = KNeighborsRegressor()\n",
    "mod.fit(X, y)\n",
    "mod.predict(X)[:3]"
   ]
  },
  {
   "cell_type": "code",
   "execution_count": 4,
   "id": "alternate-glossary",
   "metadata": {},
   "outputs": [
    {
     "data": {
      "text/plain": [
       "<matplotlib.collections.PathCollection at 0x7f9cf6674b10>"
      ]
     },
     "execution_count": 4,
     "metadata": {},
     "output_type": "execute_result"
    },
    {
     "data": {
      "image/png": "[encoded data removed]",
      "text/plain": [
       "<Figure size 432x288 with 1 Axes>"
      ]
     },
     "metadata": {
      "needs_background": "light"
     },
     "output_type": "display_data"
    }
   ],
   "source": [
    "from sklearn.neighbors import KNeighborsRegressor\n",
    "from sklearn.datasets import load_boston\n",
    "import matplotlib.pylab as plt\n",
    "\n",
    "X, y = load_boston(return_X_y=True)\n",
    "\n",
    "mod = KNeighborsRegressor().fit(X, y)\n",
    "pred = mod.predict(X)\n",
    "plt.scatter(pred, y)"
   ]
  },
  {
   "cell_type": "code",
   "execution_count": 5,
   "id": "buried-mills",
   "metadata": {},
   "outputs": [
    {
     "data": {
      "text/plain": [
       "<matplotlib.collections.PathCollection at 0x7f9cf66647d0>"
      ]
     },
     "execution_count": 5,
     "metadata": {},
     "output_type": "execute_result"
    },
    {
     "data": {
      "image/png": "[encoded data removed]",
      "text/plain": [
       "<Figure size 432x288 with 1 Axes>"
      ]
     },
     "metadata": {
      "needs_background": "light"
     },
     "output_type": "display_data"
    }
   ],
   "source": [
    "from sklearn.neighbors import KNeighborsRegressor\n",
    "from sklearn.preprocessing import StandardScaler\n",
    "from sklearn.datasets import load_boston\n",
    "from sklearn.pipeline import Pipeline\n",
    "import matplotlib.pylab as plt\n",
    "\n",
    "X, y = load_boston(return_X_y=True)\n",
    "\n",
    "pipe = Pipeline([\n",
    "    (\"scale\", StandardScaler()),\n",
    "    (\"model\", KNeighborsRegressor())\n",
    "])\n",
    "pred = pipe.fit(X, y).predict(X)\n",
    "plt.scatter(pred, y)"
   ]
  },
  {
   "cell_type": "code",
   "execution_count": 13,
   "id": "advance-horizon",
   "metadata": {},
   "outputs": [
    {
     "data": {
      "text/plain": [
       "<matplotlib.collections.PathCollection at 0x7f9cf6308410>"
      ]
     },
     "execution_count": 13,
     "metadata": {},
     "output_type": "execute_result"
    },
    {
     "data": {
      "image/png": "[encoded data removed]",
      "text/plain": [
       "<Figure size 432x288 with 1 Axes>"
      ]
     },
     "metadata": {
      "needs_background": "light"
     },
     "output_type": "display_data"
    }
   ],
   "source": [
    "from sklearn.neighbors import KNeighborsRegressor\n",
    "from sklearn.preprocessing import StandardScaler\n",
    "from sklearn.datasets import load_boston\n",
    "from sklearn.pipeline import Pipeline\n",
    "import matplotlib.pylab as plt\n",
    "\n",
    "X, y = load_boston(return_X_y=True)\n",
    "\n",
    "# If n_neighbors = 1, we're totally cheating with the chart below.\n",
    "pipe = Pipeline([\n",
    "    (\"scale\", StandardScaler()),\n",
    "    (\"model\", KNeighborsRegressor(n_neighbors=1))\n",
    "])\n",
    "pred = pipe.fit(X, y).predict(X)\n",
    "plt.scatter(pred, y)"
   ]
  },
  {
   "cell_type": "code",
   "execution_count": 7,
   "id": "entire-electronics",
   "metadata": {},
   "outputs": [],
   "source": [
    "from sklearn.datasets import load_boston\n",
    "from sklearn.neighbors import KNeighborsRegressor\n",
    "from sklearn.preprocessing import StandardScaler\n",
    "from sklearn.pipeline import Pipeline\n",
    "from sklearn.model_selection import GridSearchCV\n",
    "import pandas as pd\n",
    "\n",
    "mod = GridSearchCV(estimator=pipe,\n",
    "                 param_grid={\n",
    "                   'model__n_neighbors': [1, 2, 3, 4, 5, 6, 7, 8, 9, 10]\n",
    "                 },\n",
    "                 cv=3)\n",
    "mod.fit(X, y);"
   ]
  },
  {
   "cell_type": "code",
   "execution_count": 8,
   "id": "medieval-confidence",
   "metadata": {},
   "outputs": [
    {
     "data": {
      "text/html": [
       "<div>\n",
       "<style scoped>\n",
       "    .dataframe tbody tr th:only-of-type {\n",
       "        vertical-align: middle;\n",
       "    }\n",
       "\n",
       "    .dataframe tbody tr th {\n",
       "        vertical-align: top;\n",
       "    }\n",
       "\n",
       "    .dataframe thead th {\n",
       "        text-align: right;\n",
       "    }\n",
       "</style>\n",
       "<table border=\"1\" class=\"dataframe\">\n",
       "  <thead>\n",
       "    <tr style=\"text-align: right;\">\n",
       "      <th></th>\n",
       "      <th>mean_fit_time</th>\n",
       "      <th>std_fit_time</th>\n",
       "      <th>mean_score_time</th>\n",
       "      <th>std_score_time</th>\n",
       "      <th>param_model__n_neighbors</th>\n",
       "      <th>params</th>\n",
       "      <th>split0_test_score</th>\n",
       "      <th>split1_test_score</th>\n",
       "      <th>split2_test_score</th>\n",
       "      <th>mean_test_score</th>\n",
       "      <th>std_test_score</th>\n",
       "      <th>rank_test_score</th>\n",
       "    </tr>\n",
       "  </thead>\n",
       "  <tbody>\n",
       "    <tr>\n",
       "      <th>0</th>\n",
       "      <td>0.002322</td>\n",
       "      <td>0.000976</td>\n",
       "      <td>0.002643</td>\n",
       "      <td>0.000634</td>\n",
       "      <td>1</td>\n",
       "      <td>{'model__n_neighbors': 1}</td>\n",
       "      <td>0.226933</td>\n",
       "      <td>0.432998</td>\n",
       "      <td>0.127635</td>\n",
       "      <td>0.262522</td>\n",
       "      <td>0.127179</td>\n",
       "      <td>10</td>\n",
       "    </tr>\n",
       "    <tr>\n",
       "      <th>1</th>\n",
       "      <td>0.001580</td>\n",
       "      <td>0.000036</td>\n",
       "      <td>0.002413</td>\n",
       "      <td>0.000408</td>\n",
       "      <td>2</td>\n",
       "      <td>{'model__n_neighbors': 2}</td>\n",
       "      <td>0.358216</td>\n",
       "      <td>0.409229</td>\n",
       "      <td>0.172294</td>\n",
       "      <td>0.313246</td>\n",
       "      <td>0.101821</td>\n",
       "      <td>9</td>\n",
       "    </tr>\n",
       "    <tr>\n",
       "      <th>2</th>\n",
       "      <td>0.001659</td>\n",
       "      <td>0.000146</td>\n",
       "      <td>0.002203</td>\n",
       "      <td>0.000048</td>\n",
       "      <td>3</td>\n",
       "      <td>{'model__n_neighbors': 3}</td>\n",
       "      <td>0.413515</td>\n",
       "      <td>0.476651</td>\n",
       "      <td>0.318534</td>\n",
       "      <td>0.402900</td>\n",
       "      <td>0.064986</td>\n",
       "      <td>1</td>\n",
       "    </tr>\n",
       "    <tr>\n",
       "      <th>3</th>\n",
       "      <td>0.001639</td>\n",
       "      <td>0.000169</td>\n",
       "      <td>0.002499</td>\n",
       "      <td>0.000160</td>\n",
       "      <td>4</td>\n",
       "      <td>{'model__n_neighbors': 4}</td>\n",
       "      <td>0.475349</td>\n",
       "      <td>0.402495</td>\n",
       "      <td>0.273014</td>\n",
       "      <td>0.383619</td>\n",
       "      <td>0.083675</td>\n",
       "      <td>7</td>\n",
       "    </tr>\n",
       "    <tr>\n",
       "      <th>4</th>\n",
       "      <td>0.001634</td>\n",
       "      <td>0.000191</td>\n",
       "      <td>0.002213</td>\n",
       "      <td>0.000109</td>\n",
       "      <td>5</td>\n",
       "      <td>{'model__n_neighbors': 5}</td>\n",
       "      <td>0.512318</td>\n",
       "      <td>0.347951</td>\n",
       "      <td>0.262590</td>\n",
       "      <td>0.374286</td>\n",
       "      <td>0.103638</td>\n",
       "      <td>8</td>\n",
       "    </tr>\n",
       "    <tr>\n",
       "      <th>5</th>\n",
       "      <td>0.001447</td>\n",
       "      <td>0.000027</td>\n",
       "      <td>0.002377</td>\n",
       "      <td>0.000172</td>\n",
       "      <td>6</td>\n",
       "      <td>{'model__n_neighbors': 6}</td>\n",
       "      <td>0.533611</td>\n",
       "      <td>0.389504</td>\n",
       "      <td>0.248482</td>\n",
       "      <td>0.390532</td>\n",
       "      <td>0.116406</td>\n",
       "      <td>6</td>\n",
       "    </tr>\n",
       "    <tr>\n",
       "      <th>6</th>\n",
       "      <td>0.001447</td>\n",
       "      <td>0.000024</td>\n",
       "      <td>0.002424</td>\n",
       "      <td>0.000306</td>\n",
       "      <td>7</td>\n",
       "      <td>{'model__n_neighbors': 7}</td>\n",
       "      <td>0.544782</td>\n",
       "      <td>0.385199</td>\n",
       "      <td>0.243668</td>\n",
       "      <td>0.391216</td>\n",
       "      <td>0.123003</td>\n",
       "      <td>5</td>\n",
       "    </tr>\n",
       "    <tr>\n",
       "      <th>7</th>\n",
       "      <td>0.001576</td>\n",
       "      <td>0.000226</td>\n",
       "      <td>0.002349</td>\n",
       "      <td>0.000163</td>\n",
       "      <td>8</td>\n",
       "      <td>{'model__n_neighbors': 8}</td>\n",
       "      <td>0.589644</td>\n",
       "      <td>0.394650</td>\n",
       "      <td>0.209714</td>\n",
       "      <td>0.398003</td>\n",
       "      <td>0.155124</td>\n",
       "      <td>2</td>\n",
       "    </tr>\n",
       "    <tr>\n",
       "      <th>8</th>\n",
       "      <td>0.001754</td>\n",
       "      <td>0.000416</td>\n",
       "      <td>0.002914</td>\n",
       "      <td>0.000515</td>\n",
       "      <td>9</td>\n",
       "      <td>{'model__n_neighbors': 9}</td>\n",
       "      <td>0.590352</td>\n",
       "      <td>0.407556</td>\n",
       "      <td>0.185253</td>\n",
       "      <td>0.394387</td>\n",
       "      <td>0.165643</td>\n",
       "      <td>3</td>\n",
       "    </tr>\n",
       "    <tr>\n",
       "      <th>9</th>\n",
       "      <td>0.001465</td>\n",
       "      <td>0.000004</td>\n",
       "      <td>0.002473</td>\n",
       "      <td>0.000104</td>\n",
       "      <td>10</td>\n",
       "      <td>{'model__n_neighbors': 10}</td>\n",
       "      <td>0.616510</td>\n",
       "      <td>0.395077</td>\n",
       "      <td>0.164023</td>\n",
       "      <td>0.391870</td>\n",
       "      <td>0.184741</td>\n",
       "      <td>4</td>\n",
       "    </tr>\n",
       "  </tbody>\n",
       "</table>\n",
       "</div>"
      ],
      "text/plain": [
       "   mean_fit_time  std_fit_time  mean_score_time  std_score_time  \\\n",
       "0       0.002322      0.000976         0.002643        0.000634   \n",
       "1       0.001580      0.000036         0.002413        0.000408   \n",
       "2       0.001659      0.000146         0.002203        0.000048   \n",
       "3       0.001639      0.000169         0.002499        0.000160   \n",
       "4       0.001634      0.000191         0.002213        0.000109   \n",
       "5       0.001447      0.000027         0.002377        0.000172   \n",
       "6       0.001447      0.000024         0.002424        0.000306   \n",
       "7       0.001576      0.000226         0.002349        0.000163   \n",
       "8       0.001754      0.000416         0.002914        0.000515   \n",
       "9       0.001465      0.000004         0.002473        0.000104   \n",
       "\n",
       "  param_model__n_neighbors                      params  split0_test_score  \\\n",
       "0                        1   {'model__n_neighbors': 1}           0.226933   \n",
       "1                        2   {'model__n_neighbors': 2}           0.358216   \n",
       "2                        3   {'model__n_neighbors': 3}           0.413515   \n",
       "3                        4   {'model__n_neighbors': 4}           0.475349   \n",
       "4                        5   {'model__n_neighbors': 5}           0.512318   \n",
       "5                        6   {'model__n_neighbors': 6}           0.533611   \n",
       "6                        7   {'model__n_neighbors': 7}           0.544782   \n",
       "7                        8   {'model__n_neighbors': 8}           0.589644   \n",
       "8                        9   {'model__n_neighbors': 9}           0.590352   \n",
       "9                       10  {'model__n_neighbors': 10}           0.616510   \n",
       "\n",
       "   split1_test_score  split2_test_score  mean_test_score  std_test_score  \\\n",
       "0           0.432998           0.127635         0.262522        0.127179   \n",
       "1           0.409229           0.172294         0.313246        0.101821   \n",
       "2           0.476651           0.318534         0.402900        0.064986   \n",
       "3           0.402495           0.273014         0.383619        0.083675   \n",
       "4           0.347951           0.262590         0.374286        0.103638   \n",
       "5           0.389504           0.248482         0.390532        0.116406   \n",
       "6           0.385199           0.243668         0.391216        0.123003   \n",
       "7           0.394650           0.209714         0.398003        0.155124   \n",
       "8           0.407556           0.185253         0.394387        0.165643   \n",
       "9           0.395077           0.164023         0.391870        0.184741   \n",
       "\n",
       "   rank_test_score  \n",
       "0               10  \n",
       "1                9  \n",
       "2                1  \n",
       "3                7  \n",
       "4                8  \n",
       "5                6  \n",
       "6                5  \n",
       "7                2  \n",
       "8                3  \n",
       "9                4  "
      ]
     },
     "execution_count": 8,
     "metadata": {},
     "output_type": "execute_result"
    }
   ],
   "source": [
    "pd.DataFrame(mod.cv_results_)"
   ]
  },
  {
   "cell_type": "code",
   "execution_count": 9,
   "id": "liquid-poultry",
   "metadata": {},
   "outputs": [
    {
     "name": "stdout",
     "output_type": "stream",
     "text": [
      ".. _boston_dataset:\n",
      "\n",
      "Boston house prices dataset\n",
      "---------------------------\n",
      "\n",
      "**Data Set Characteristics:**  \n",
      "\n",
      "    :Number of Instances: 506 \n",
      "\n",
      "    :Number of Attributes: 13 numeric/categorical predictive. Median Value (attribute 14) is usually the target.\n",
      "\n",
      "    :Attribute Information (in order):\n",
      "        - CRIM     per capita crime rate by town\n",
      "        - ZN       proportion of residential land zoned for lots over 25,000 sq.ft.\n",
      "        - INDUS    proportion of non-retail business acres per town\n",
      "        - CHAS     Charles River dummy variable (= 1 if tract bounds river; 0 otherwise)\n",
      "        - NOX      nitric oxides concentration (parts per 10 million)\n",
      "        - RM       average number of rooms per dwelling\n",
      "        - AGE      proportion of owner-occupied units built prior to 1940\n",
      "        - DIS      weighted distances to five Boston employment centres\n",
      "        - RAD      index of accessibility to radial highways\n",
      "        - TAX      full-value property-tax rate per $10,000\n",
      "        - PTRATIO  pupil-teacher ratio by town\n",
      "        - B        1000(Bk - 0.63)^2 where Bk is the proportion of blacks by town\n",
      "        - LSTAT    % lower status of the population\n",
      "        - MEDV     Median value of owner-occupied homes in $1000's\n",
      "\n",
      "    :Missing Attribute Values: None\n",
      "\n",
      "    :Creator: Harrison, D. and Rubinfeld, D.L.\n",
      "\n",
      "This is a copy of UCI ML housing dataset.\n",
      "https://archive.ics.uci.edu/ml/machine-learning-databases/housing/\n",
      "\n",
      "\n",
      "This dataset was taken from the StatLib library which is maintained at Carnegie Mellon University.\n",
      "\n",
      "The Boston house-price data of Harrison, D. and Rubinfeld, D.L. 'Hedonic\n",
      "prices and the demand for clean air', J. Environ. Economics & Management,\n",
      "vol.5, 81-102, 1978.   Used in Belsley, Kuh & Welsch, 'Regression diagnostics\n",
      "...', Wiley, 1980.   N.B. Various transformations are used in the table on\n",
      "pages 244-261 of the latter.\n",
      "\n",
      "The Boston house-price data has been used in many machine learning papers that address regression\n",
      "problems.   \n",
      "     \n",
      ".. topic:: References\n",
      "\n",
      "   - Belsley, Kuh & Welsch, 'Regression diagnostics: Identifying Influential Data and Sources of Collinearity', Wiley, 1980. 244-261.\n",
      "   - Quinlan,R. (1993). Combining Instance-Based and Model-Based Learning. In Proceedings on the Tenth International Conference of Machine Learning, 236-243, University of Massachusetts, Amherst. Morgan Kaufmann.\n",
      "\n"
     ]
    }
   ],
   "source": [
    "print(load_boston()['DESCR'])"
   ]
  },
  {
   "cell_type": "code",
   "execution_count": null,
   "id": "numerous-armstrong",
   "metadata": {},
   "outputs": [],
   "source": [
    "Luentoviikko 6: Ohjaamaton koneoppiminen\n",
    "    Todellisessa maailmassa olevilla tiedoilla voi olla hyvin suuret mitat eli määritteet. \n",
    "    4-ulotteisen datan visualisointi ja analysointi voi olla haastavaa ja vaikeaa. Tämä vaikeus \n",
    "    kasvaa eksponentiaalisesti ulottuvuuksien määrän mukana. Tämä hyvin tunnettu asia tunnistetaan \n",
    "    dimensioiden kiroukseksi.\n",
    "    \n",
    "    Viikon luennon esimerkin datassa useat sarakkeet olivat kategorisia. KMeans-analyysi ei pysty \n",
    "    käyttämään kategorisia muuttujia, joten jouduttiin soveltamaan K-modes-analyysiä, joka yhdistää\n",
    "    KModes- ja KMeans- analyysin.\n",
    "\n",
    "    Pääkomponenttianalyysi on lineaarinen ulottuvuuden vähentämistekniikka, joka projisoi datan \n",
    "    alemman ulottuvuuden avaruuteen."
   ]
  },
  {
   "cell_type": "code",
   "execution_count": null,
   "id": "consistent-preservation",
   "metadata": {},
   "outputs": [],
   "source": [
    "Viikon 5 oppia/oivallusta:\n",
    "        \n",
    "    \n",
    "Kehityskohteet: \n",
    "    "
   ]
  },
  {
   "cell_type": "code",
   "execution_count": null,
   "id": "sharing-kingston",
   "metadata": {},
   "outputs": [],
   "source": [
    "Viikon koodidemona pääkomponenttianalyysi, jonka lisäsin Githubiin: \n",
    "    https://github.com/tauimonen/machine-learning/blob/master/Credit%20Risk%20Model.ipynb"
   ]
  },
  {
   "cell_type": "code",
   "execution_count": null,
   "id": "internal-ottawa",
   "metadata": {},
   "outputs": [],
   "source": [
    "Luentoviikko 7: Visuaalinen analytiikka\n",
    "    Tällä viikolla perehdyttiin visuaaliseen analytiikkaan."
   ]
  },
  {
   "cell_type": "code",
   "execution_count": null,
   "id": "classical-blogger",
   "metadata": {},
   "outputs": [],
   "source": [
    "Viikon 5 oppia/oivallusta:\n",
    "        \n",
    "    \n",
    "Kehityskohteet: \n",
    "    "
   ]
  }
 ],
 "metadata": {
  "environment": {
   "name": "tf2-gpu.2-4.m65",
   "type": "gcloud",
   "uri": "gcr.io/deeplearning-platform-release/tf2-gpu.2-4:m65"
  },
  "kernelspec": {
   "display_name": "Python 3",
   "language": "python",
   "name": "python3"
  },
  "language_info": {
   "codemirror_mode": {
    "name": "ipython",
    "version": 3
   },
   "file_extension": ".py",
   "mimetype": "text/x-python",
   "name": "python",
   "nbconvert_exporter": "python",
   "pygments_lexer": "ipython3",
   "version": "3.7.10"
  }
 },
 "nbformat": 4,
 "nbformat_minor": 5
}
