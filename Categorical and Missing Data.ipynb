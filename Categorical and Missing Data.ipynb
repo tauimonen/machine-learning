{
 "cells": [
  {
   "cell_type": "code",
   "execution_count": 1,
   "id": "central-registration",
   "metadata": {},
   "outputs": [],
   "source": [
    "import pandas as pd\n",
    "import numpy as np\n",
    "\n",
    "from sklearn import preprocessing\n",
    "from sklearn import linear_model\n",
    "from sklearn.model_selection import cross_val_predict\n",
    "from sklearn.impute import SimpleImputer\n",
    "\n",
    "import matplotlib.pyplot as plt\n",
    "import os"
   ]
  },
  {
   "cell_type": "code",
   "execution_count": 3,
   "id": "applicable-reach",
   "metadata": {},
   "outputs": [
    {
     "name": "stdout",
     "output_type": "stream",
     "text": [
      "<class 'pandas.core.frame.DataFrame'>\n",
      "RangeIndex: 16313 entries, 0 to 16312\n",
      "Data columns (total 96 columns):\n",
      " #   Column                            Non-Null Count  Dtype  \n",
      "---  ------                            --------------  -----  \n",
      " 0   id                                16313 non-null  int64  \n",
      " 1   listing_url                       16313 non-null  object \n",
      " 2   scrape_id                         16313 non-null  int64  \n",
      " 3   last_scraped                      16313 non-null  object \n",
      " 4   name                              16302 non-null  object \n",
      " 5   summary                           15860 non-null  object \n",
      " 6   space                             11798 non-null  object \n",
      " 7   description                       16305 non-null  object \n",
      " 8   experiences_offered               16313 non-null  object \n",
      " 9   neighborhood_overview             10343 non-null  object \n",
      " 10  notes                             6734 non-null   object \n",
      " 11  transit                           10186 non-null  object \n",
      " 12  access                            9057 non-null   object \n",
      " 13  interaction                       9196 non-null   object \n",
      " 14  house_rules                       10189 non-null  object \n",
      " 15  thumbnail_url                     0 non-null      float64\n",
      " 16  medium_url                        0 non-null      float64\n",
      " 17  picture_url                       16313 non-null  object \n",
      " 18  xl_picture_url                    0 non-null      float64\n",
      " 19  host_id                           16313 non-null  int64  \n",
      " 20  host_url                          16313 non-null  object \n",
      " 21  host_name                         16284 non-null  object \n",
      " 22  host_since                        16284 non-null  object \n",
      " 23  host_location                     16223 non-null  object \n",
      " 24  host_about                        9965 non-null   object \n",
      " 25  host_response_time                13805 non-null  object \n",
      " 26  host_response_rate                13805 non-null  object \n",
      " 27  host_acceptance_rate              0 non-null      float64\n",
      " 28  host_is_superhost                 16284 non-null  object \n",
      " 29  host_thumbnail_url                16284 non-null  object \n",
      " 30  host_picture_url                  16284 non-null  object \n",
      " 31  host_neighbourhood                11888 non-null  object \n",
      " 32  host_listings_count               16284 non-null  float64\n",
      " 33  host_total_listings_count         16284 non-null  float64\n",
      " 34  host_verifications                16313 non-null  object \n",
      " 35  host_has_profile_pic              16284 non-null  object \n",
      " 36  host_identity_verified            16284 non-null  object \n",
      " 37  street                            16313 non-null  object \n",
      " 38  neighbourhood                     16309 non-null  object \n",
      " 39  neighbourhood_cleansed            16313 non-null  object \n",
      " 40  neighbourhood_group_cleansed      16313 non-null  object \n",
      " 41  city                              16311 non-null  object \n",
      " 42  state                             16230 non-null  object \n",
      " 43  zipcode                           15693 non-null  object \n",
      " 44  market                            16262 non-null  object \n",
      " 45  smart_location                    16313 non-null  object \n",
      " 46  country_code                      16313 non-null  object \n",
      " 47  country                           16312 non-null  object \n",
      " 48  latitude                          16313 non-null  float64\n",
      " 49  longitude                         16313 non-null  float64\n",
      " 50  is_location_exact                 16313 non-null  object \n",
      " 51  property_type                     16313 non-null  object \n",
      " 52  room_type                         16313 non-null  object \n",
      " 53  accommodates                      16313 non-null  int64  \n",
      " 54  bathrooms                         16275 non-null  float64\n",
      " 55  bedrooms                          16308 non-null  float64\n",
      " 56  beds                              16281 non-null  float64\n",
      " 57  bed_type                          16313 non-null  object \n",
      " 58  amenities                         16313 non-null  object \n",
      " 59  square_feet                       446 non-null    float64\n",
      " 60  price                             16313 non-null  object \n",
      " 61  weekly_price                      2879 non-null   object \n",
      " 62  monthly_price                     2703 non-null   object \n",
      " 63  security_deposit                  10095 non-null  object \n",
      " 64  cleaning_fee                      11400 non-null  object \n",
      " 65  guests_included                   16313 non-null  int64  \n",
      " 66  extra_people                      16313 non-null  object \n",
      " 67  minimum_nights                    16313 non-null  int64  \n",
      " 68  maximum_nights                    16313 non-null  int64  \n",
      " 69  calendar_updated                  16313 non-null  object \n",
      " 70  has_availability                  16313 non-null  object \n",
      " 71  availability_30                   16313 non-null  int64  \n",
      " 72  availability_60                   16313 non-null  int64  \n",
      " 73  availability_90                   16313 non-null  int64  \n",
      " 74  availability_365                  16313 non-null  int64  \n",
      " 75  calendar_last_scraped             16313 non-null  object \n",
      " 76  number_of_reviews                 16313 non-null  int64  \n",
      " 77  first_review                      13261 non-null  object \n",
      " 78  last_review                       13290 non-null  object \n",
      " 79  review_scores_rating              13118 non-null  float64\n",
      " 80  review_scores_accuracy            13105 non-null  float64\n",
      " 81  review_scores_cleanliness         13111 non-null  float64\n",
      " 82  review_scores_checkin             13089 non-null  float64\n",
      " 83  review_scores_communication       13104 non-null  float64\n",
      " 84  review_scores_location            13083 non-null  float64\n",
      " 85  review_scores_value               13082 non-null  float64\n",
      " 86  requires_license                  16313 non-null  object \n",
      " 87  license                           1511 non-null   object \n",
      " 88  jurisdiction_names                0 non-null      float64\n",
      " 89  instant_bookable                  16313 non-null  object \n",
      " 90  is_business_travel_ready          16313 non-null  object \n",
      " 91  cancellation_policy               16313 non-null  object \n",
      " 92  require_guest_profile_picture     16313 non-null  object \n",
      " 93  require_guest_phone_verification  16313 non-null  object \n",
      " 94  calculated_host_listings_count    16313 non-null  int64  \n",
      " 95  reviews_per_month                 13261 non-null  float64\n",
      "dtypes: float64(21), int64(13), object(62)\n",
      "memory usage: 11.9+ MB\n",
      "None\n"
     ]
    }
   ],
   "source": [
    "# Load data\n",
    "if os.path.exists('data.csv'):\n",
    "    df = pd.read_csv('data.csv')\n",
    "else:\n",
    "    df = pd.read_csv('http://data.insideairbnb.com/spain/comunidad-de-madrid/madrid/2018-01-17/data/listings.csv.gz', \n",
    "                      compression='gzip')\n",
    "    df.to_csv('data.csv')\n",
    "\n",
    "print(df.info())"
   ]
  },
  {
   "cell_type": "code",
   "execution_count": 5,
   "id": "middle-computer",
   "metadata": {},
   "outputs": [
    {
     "name": "stdout",
     "output_type": "stream",
     "text": [
      "  host_response_time host_response_rate  review_scores_rating\n",
      "0       within a day                60%                  89.0\n",
      "1     within an hour               100%                  91.0\n",
      "2     within an hour               100%                  79.0\n",
      "3     within an hour               100%                  90.0\n",
      "4     within an hour               100%                  80.0\n",
      "['within a day' 'within an hour' 'within a few hours' nan\n",
      " 'a few days or more']\n"
     ]
    }
   ],
   "source": [
    "# We will focus on three attributes only\n",
    "df = df[['host_response_time','host_response_rate','review_scores_rating']]\n",
    "\n",
    "print(df.head())\n",
    "print(df.host_response_time.unique())"
   ]
  },
  {
   "cell_type": "code",
   "execution_count": 6,
   "id": "hollywood-reflection",
   "metadata": {},
   "outputs": [
    {
     "name": "stdout",
     "output_type": "stream",
     "text": [
      "<class 'pandas.core.frame.DataFrame'>\n",
      "RangeIndex: 16313 entries, 0 to 16312\n",
      "Data columns (total 3 columns):\n",
      " #   Column                Non-Null Count  Dtype  \n",
      "---  ------                --------------  -----  \n",
      " 0   host_response_time    13805 non-null  object \n",
      " 1   host_response_rate    13805 non-null  float64\n",
      " 2   review_scores_rating  13118 non-null  float64\n",
      "dtypes: float64(2), object(1)\n",
      "memory usage: 382.5+ KB\n",
      "None \n",
      "\n",
      "  host_response_time  host_response_rate  review_scores_rating\n",
      "0       within a day                60.0                  89.0\n",
      "1     within an hour               100.0                  91.0\n",
      "2     within an hour               100.0                  79.0\n",
      "3     within an hour               100.0                  90.0\n",
      "4     within an hour               100.0                  80.0\n"
     ]
    }
   ],
   "source": [
    "df.host_response_rate = df.host_response_rate.str.strip(\"%\")\n",
    "df.host_response_rate = pd.to_numeric(df.host_response_rate)\n",
    "\n",
    "print(df.info(), \"\\n\")\n",
    "print(df.head())"
   ]
  },
  {
   "cell_type": "code",
   "execution_count": 14,
   "id": "declared-forestry",
   "metadata": {},
   "outputs": [],
   "source": [
    "df = df.dropna()"
   ]
  },
  {
   "cell_type": "code",
   "execution_count": 8,
   "id": "regulation-rider",
   "metadata": {},
   "outputs": [],
   "source": [
    "# Converting host_response_time attribute to categorical values.\n",
    "# Two approaches:\n",
    "\n",
    "# 1 - Encoding label encoder...\n",
    "le = preprocessing.LabelEncoder()\n",
    "\n",
    "arr = le.fit_transform(df.host_response_time)\n",
    "\n",
    "df.host_response_time = arr\n",
    "\n",
    "# 2 - ...OR alternative way \n",
    "df_label = df.apply(preprocessing.LabelEncoder().fit_transform)"
   ]
  },
  {
   "cell_type": "code",
   "execution_count": 9,
   "id": "underlying-desktop",
   "metadata": {},
   "outputs": [
    {
     "name": "stdout",
     "output_type": "stream",
     "text": [
      "[1 3 3 ... 3 3 3]\n"
     ]
    },
    {
     "data": {
      "text/html": [
       "<div>\n",
       "<style scoped>\n",
       "    .dataframe tbody tr th:only-of-type {\n",
       "        vertical-align: middle;\n",
       "    }\n",
       "\n",
       "    .dataframe tbody tr th {\n",
       "        vertical-align: top;\n",
       "    }\n",
       "\n",
       "    .dataframe thead th {\n",
       "        text-align: right;\n",
       "    }\n",
       "</style>\n",
       "<table border=\"1\" class=\"dataframe\">\n",
       "  <thead>\n",
       "    <tr style=\"text-align: right;\">\n",
       "      <th></th>\n",
       "      <th>host_response_time</th>\n",
       "      <th>host_response_rate</th>\n",
       "      <th>review_scores_rating</th>\n",
       "    </tr>\n",
       "  </thead>\n",
       "  <tbody>\n",
       "    <tr>\n",
       "      <th>0</th>\n",
       "      <td>1</td>\n",
       "      <td>60.0</td>\n",
       "      <td>89.0</td>\n",
       "    </tr>\n",
       "    <tr>\n",
       "      <th>1</th>\n",
       "      <td>3</td>\n",
       "      <td>100.0</td>\n",
       "      <td>91.0</td>\n",
       "    </tr>\n",
       "    <tr>\n",
       "      <th>2</th>\n",
       "      <td>3</td>\n",
       "      <td>100.0</td>\n",
       "      <td>79.0</td>\n",
       "    </tr>\n",
       "    <tr>\n",
       "      <th>3</th>\n",
       "      <td>3</td>\n",
       "      <td>100.0</td>\n",
       "      <td>90.0</td>\n",
       "    </tr>\n",
       "    <tr>\n",
       "      <th>4</th>\n",
       "      <td>3</td>\n",
       "      <td>100.0</td>\n",
       "      <td>80.0</td>\n",
       "    </tr>\n",
       "  </tbody>\n",
       "</table>\n",
       "</div>"
      ],
      "text/plain": [
       "   host_response_time  host_response_rate  review_scores_rating\n",
       "0                   1                60.0                  89.0\n",
       "1                   3               100.0                  91.0\n",
       "2                   3               100.0                  79.0\n",
       "3                   3               100.0                  90.0\n",
       "4                   3               100.0                  80.0"
      ]
     },
     "execution_count": 9,
     "metadata": {},
     "output_type": "execute_result"
    }
   ],
   "source": [
    "print(arr)\n",
    "df.head()"
   ]
  },
  {
   "cell_type": "code",
   "execution_count": 16,
   "id": "continuing-annex",
   "metadata": {},
   "outputs": [
    {
     "data": {
      "image/png": "[encoded data removed]",
      "text/plain": [
       "<Figure size 1440x720 with 1 Axes>"
      ]
     },
     "metadata": {
      "needs_background": "light"
     },
     "output_type": "display_data"
    }
   ],
   "source": [
    "# Perform Linear Regression\n",
    "lr = linear_model.LinearRegression()\n",
    "\n",
    "# define labels and data (i.e y and X)\n",
    "y = df.review_scores_rating\n",
    "x = df.drop(columns=\"review_scores_rating\")\n",
    "\n",
    "predict = cross_val_predict(lr, x, y, cv=10)\n",
    "\n",
    "fig, ax = plt.subplots(figsize=(20,10))\n",
    "ax.scatter(y, predict, edgecolors=(0, 0, 0))\n",
    "ax.plot([y.min(), y.max()], [y.min(), y.max()], \"k--\", lw=4)\n",
    "ax.set_xlabel(\"Measured\")\n",
    "ax.set_ylabel(\"Predicted\")\n",
    "plt.show()"
   ]
  },
  {
   "cell_type": "code",
   "execution_count": 17,
   "id": "thirty-silly",
   "metadata": {},
   "outputs": [
    {
     "name": "stdout",
     "output_type": "stream",
     "text": [
      "                      host_response_time  host_response_rate  \\\n",
      "host_response_time              1.000000            0.586101   \n",
      "host_response_rate              0.586101            1.000000   \n",
      "review_scores_rating            0.018660            0.066256   \n",
      "\n",
      "                      review_scores_rating  \n",
      "host_response_time                0.018660  \n",
      "host_response_rate                0.066256  \n",
      "review_scores_rating              1.000000  \n"
     ]
    }
   ],
   "source": [
    "# Print pearson correlation coefficient a.k.a standard correlation coefficient\n",
    "print(df.corr())"
   ]
  },
  {
   "cell_type": "code",
   "execution_count": null,
   "id": "other-laundry",
   "metadata": {},
   "outputs": [],
   "source": []
  }
 ],
 "metadata": {
  "environment": {
   "name": "tf2-gpu.2-4.m65",
   "type": "gcloud",
   "uri": "gcr.io/deeplearning-platform-release/tf2-gpu.2-4:m65"
  },
  "kernelspec": {
   "display_name": "Python 3",
   "language": "python",
   "name": "python3"
  },
  "language_info": {
   "codemirror_mode": {
    "name": "ipython",
    "version": 3
   },
   "file_extension": ".py",
   "mimetype": "text/x-python",
   "name": "python",
   "nbconvert_exporter": "python",
   "pygments_lexer": "ipython3",
   "version": "3.7.10"
  }
 },
 "nbformat": 4,
 "nbformat_minor": 5
}
